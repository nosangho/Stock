{
 "cells": [
  {
   "cell_type": "code",
   "execution_count": 1,
   "metadata": {},
   "outputs": [],
   "source": [
    "import pandas as pd"
   ]
  },
  {
   "cell_type": "code",
   "execution_count": 2,
   "metadata": {
    "pycharm": {
     "is_executing": false
    }
   },
   "outputs": [],
   "source": [
    "df1 = pd.read_excel('./2019.xlsx', sheet_name='연결재무재표')\n",
    "df2 = pd.read_excel('./2019.xlsx', sheet_name='포괄손익계산서_연결')"
   ]
  },
  {
   "cell_type": "code",
   "execution_count": 3,
   "metadata": {},
   "outputs": [
    {
     "data": {
      "text/plain": [
       "Index(['재무제표종류', '종목코드', '회사명', '시장구분', '업종', '업종명', '결산월', '결산기준일', '보고서종류',\n",
       "       '통화', '항목코드', '항목명', '당기', '전기', '전전기', 'Column1'],\n",
       "      dtype='object')"
      ]
     },
     "execution_count": 3,
     "metadata": {},
     "output_type": "execute_result"
    }
   ],
   "source": [
    "df1.columns"
   ]
  },
  {
   "cell_type": "code",
   "execution_count": 4,
   "metadata": {},
   "outputs": [
    {
     "data": {
      "text/plain": [
       "Index(['재무제표종류', '종목코드', '회사명', '시장구분', '업종', '업종명', '결산월', '결산기준일', '보고서종류',\n",
       "       '통화', '항목코드', '항목명', 'Column1', '당기', '_1', '_2', '전기', '전전기', '_3'],\n",
       "      dtype='object')"
      ]
     },
     "execution_count": 4,
     "metadata": {},
     "output_type": "execute_result"
    }
   ],
   "source": [
    "df2.columns"
   ]
  },
  {
   "cell_type": "code",
   "execution_count": 5,
   "metadata": {},
   "outputs": [],
   "source": [
    "df1_cols = ['회사명', '종목코드', '결산월', '항목명', '당기', '전기', '전전기']\n",
    "df2_cols = ['회사명', '종목코드', '결산월', '항목명', '당기', '전기', '전전기']"
   ]
  },
  {
   "cell_type": "code",
   "execution_count": 6,
   "metadata": {},
   "outputs": [],
   "source": [
    "df3 = df1[df1_cols]\n",
    "df4 = df2[df2_cols]"
   ]
  },
  {
   "cell_type": "code",
   "execution_count": 7,
   "metadata": {},
   "outputs": [],
   "source": [
    "df_ts = df4[df4['항목명']=='매출총이익']"
   ]
  },
  {
   "cell_type": "code",
   "execution_count": 8,
   "metadata": {},
   "outputs": [],
   "source": [
    "df_tm = df3[df3['항목명']=='   자본총계']"
   ]
  },
  {
   "cell_type": "code",
   "execution_count": null,
   "metadata": {
    "pycharm": {
     "name": "#%%\n"
    }
   },
   "outputs": [],
   "source": [
    "table1 = df3[df3['항목명']=='   부채총계']"
   ]
  },
  {
   "cell_type": "code",
   "execution_count": null,
   "metadata": {
    "pycharm": {
     "name": "#%%\n"
    }
   },
   "outputs": [],
   "source": [
    "table2 = df3[df3['항목명']=='   자본총계']"
   ]
  },
  {
   "cell_type": "code",
   "execution_count": null,
   "metadata": {
    "pycharm": {
     "name": "#%%\n"
    }
   },
   "outputs": [],
   "source": [
    "table3 = pd.merge(table1, table2, on='종목코드')"
   ]
  },
  {
   "cell_type": "code",
   "execution_count": null,
   "metadata": {
    "pycharm": {
     "name": "#%%\n"
    }
   },
   "outputs": [],
   "source": [
    "table3.head()"
   ]
  },
  {
   "cell_type": "code",
   "execution_count": null,
   "metadata": {
    "pycharm": {
     "name": "#%%\n"
    }
   },
   "outputs": [],
   "source": [
    "table3['부채비율']=table3['당기_x']/table3['당기_y']*100"
   ]
  },
  {
   "cell_type": "code",
   "execution_count": null,
   "metadata": {
    "pycharm": {
     "name": "#%%\n"
    }
   },
   "outputs": [],
   "source": [
    "table3[table3['부채비율']<100]"
   ]
  },
  {
   "cell_type": "code",
   "execution_count": null,
   "metadata": {
    "pycharm": {
     "name": "#%%\n"
    }
   },
   "outputs": [],
   "source": [
    "df_sales1 = df4[df4['항목명']=='영업이익']\n",
    "df_sales2 = df4[df4['항목명']=='영업이익(손실)']\n",
    "df_sales = df_sales1.append(df_sales2)"
   ]
  },
  {
   "cell_type": "code",
   "execution_count": null,
   "metadata": {
    "pycharm": {
     "name": "#%%\n"
    }
   },
   "outputs": [],
   "source": [
    "df_sales = df_sales[(df_sales['당기']>df_sales['전기'])&(df_sales['전기']>df_sales['전전기'])]"
   ]
  },
  {
   "cell_type": "code",
   "execution_count": null,
   "metadata": {
    "pycharm": {
     "name": "#%%\n"
    }
   },
   "outputs": [],
   "source": [
    "df_sales['항목명']=\"영업이익\""
   ]
  },
  {
   "cell_type": "code",
   "execution_count": null,
   "metadata": {
    "pycharm": {
     "name": "#%%\n"
    }
   },
   "outputs": [],
   "source": [
    "df_sales"
   ]
  },
  {
   "cell_type": "code",
   "execution_count": null,
   "metadata": {
    "pycharm": {
     "name": "#%%\n"
    }
   },
   "outputs": [],
   "source": []
  },
  {
   "cell_type": "code",
   "execution_count": null,
   "metadata": {
    "pycharm": {
     "name": "#%%\n"
    }
   },
   "outputs": [],
   "source": []
  },
  {
   "cell_type": "code",
   "execution_count": 19,
   "metadata": {},
   "outputs": [],
   "source": [
    "df_ts.head()"
   ]
  },
  {
   "cell_type": "code",
   "execution_count": 20,
   "metadata": {},
   "outputs": [],
   "source": [
    "table2 = df3[df3['항목명']=='   자본총계']"
   ]
  },
  {
   "cell_type": "code",
   "execution_count": 24,
   "metadata": {},
   "outputs": [],
   "source": [
    "table3 = pd.merge(table1, table2, on='종목코드')"
   ]
  },
  {
   "cell_type": "code",
   "execution_count": 25,
   "metadata": {},
   "outputs": [
    {
     "data": {
      "text/html": [
       "<div>\n",
       "<style scoped>\n",
       "    .dataframe tbody tr th:only-of-type {\n",
       "        vertical-align: middle;\n",
       "    }\n",
       "\n",
       "    .dataframe tbody tr th {\n",
       "        vertical-align: top;\n",
       "    }\n",
       "\n",
       "    .dataframe thead th {\n",
       "        text-align: right;\n",
       "    }\n",
       "</style>\n",
       "<table border=\"1\" class=\"dataframe\">\n",
       "  <thead>\n",
       "    <tr style=\"text-align: right;\">\n",
       "      <th></th>\n",
       "      <th>회사명_x</th>\n",
       "      <th>종목코드</th>\n",
       "      <th>결산월_x</th>\n",
       "      <th>항목명_x</th>\n",
       "      <th>당기_x</th>\n",
       "      <th>전기_x</th>\n",
       "      <th>전전기_x</th>\n",
       "      <th>회사명_y</th>\n",
       "      <th>결산월_y</th>\n",
       "      <th>항목명_y</th>\n",
       "      <th>당기_y</th>\n",
       "      <th>전기_y</th>\n",
       "      <th>전전기_y</th>\n",
       "    </tr>\n",
       "  </thead>\n",
       "  <tbody>\n",
       "    <tr>\n",
       "      <th>0</th>\n",
       "      <td>3S</td>\n",
       "      <td>[060310]</td>\n",
       "      <td>3</td>\n",
       "      <td>부채총계</td>\n",
       "      <td>1.895754e+10</td>\n",
       "      <td>1.876866e+10</td>\n",
       "      <td>2.452724e+10</td>\n",
       "      <td>3S</td>\n",
       "      <td>3</td>\n",
       "      <td>자본총계</td>\n",
       "      <td>3.437168e+10</td>\n",
       "      <td>3.075234e+10</td>\n",
       "      <td>2.917967e+10</td>\n",
       "    </tr>\n",
       "    <tr>\n",
       "      <th>1</th>\n",
       "      <td>AJ네트웍스</td>\n",
       "      <td>[095570]</td>\n",
       "      <td>12</td>\n",
       "      <td>부채총계</td>\n",
       "      <td>1.455914e+12</td>\n",
       "      <td>2.083331e+12</td>\n",
       "      <td>1.907061e+12</td>\n",
       "      <td>AJ네트웍스</td>\n",
       "      <td>12</td>\n",
       "      <td>자본총계</td>\n",
       "      <td>3.473412e+11</td>\n",
       "      <td>4.918080e+11</td>\n",
       "      <td>4.471729e+11</td>\n",
       "    </tr>\n",
       "    <tr>\n",
       "      <th>2</th>\n",
       "      <td>AK홀딩스</td>\n",
       "      <td>[006840]</td>\n",
       "      <td>12</td>\n",
       "      <td>부채총계</td>\n",
       "      <td>2.898026e+12</td>\n",
       "      <td>1.924034e+12</td>\n",
       "      <td>1.792720e+12</td>\n",
       "      <td>AK홀딩스</td>\n",
       "      <td>12</td>\n",
       "      <td>자본총계</td>\n",
       "      <td>1.429939e+12</td>\n",
       "      <td>1.473898e+12</td>\n",
       "      <td>1.152064e+12</td>\n",
       "    </tr>\n",
       "    <tr>\n",
       "      <th>3</th>\n",
       "      <td>APS홀딩스</td>\n",
       "      <td>[054620]</td>\n",
       "      <td>12</td>\n",
       "      <td>부채총계</td>\n",
       "      <td>8.292250e+10</td>\n",
       "      <td>4.761427e+10</td>\n",
       "      <td>4.850679e+10</td>\n",
       "      <td>APS홀딩스</td>\n",
       "      <td>12</td>\n",
       "      <td>자본총계</td>\n",
       "      <td>2.147857e+11</td>\n",
       "      <td>2.355896e+11</td>\n",
       "      <td>1.832762e+11</td>\n",
       "    </tr>\n",
       "    <tr>\n",
       "      <th>4</th>\n",
       "      <td>AP시스템</td>\n",
       "      <td>[265520]</td>\n",
       "      <td>12</td>\n",
       "      <td>부채총계</td>\n",
       "      <td>3.068430e+11</td>\n",
       "      <td>3.145718e+11</td>\n",
       "      <td>3.785414e+11</td>\n",
       "      <td>AP시스템</td>\n",
       "      <td>12</td>\n",
       "      <td>자본총계</td>\n",
       "      <td>1.141229e+11</td>\n",
       "      <td>1.064151e+11</td>\n",
       "      <td>8.948934e+10</td>\n",
       "    </tr>\n",
       "  </tbody>\n",
       "</table>\n",
       "</div>"
      ],
      "text/plain": [
       "    회사명_x      종목코드  결산월_x    항목명_x          당기_x          전기_x         전전기_x  \\\n",
       "0      3S  [060310]      3     부채총계  1.895754e+10  1.876866e+10  2.452724e+10   \n",
       "1  AJ네트웍스  [095570]     12     부채총계  1.455914e+12  2.083331e+12  1.907061e+12   \n",
       "2   AK홀딩스  [006840]     12     부채총계  2.898026e+12  1.924034e+12  1.792720e+12   \n",
       "3  APS홀딩스  [054620]     12     부채총계  8.292250e+10  4.761427e+10  4.850679e+10   \n",
       "4   AP시스템  [265520]     12     부채총계  3.068430e+11  3.145718e+11  3.785414e+11   \n",
       "\n",
       "    회사명_y  결산월_y    항목명_y          당기_y          전기_y         전전기_y  \n",
       "0      3S      3     자본총계  3.437168e+10  3.075234e+10  2.917967e+10  \n",
       "1  AJ네트웍스     12     자본총계  3.473412e+11  4.918080e+11  4.471729e+11  \n",
       "2   AK홀딩스     12     자본총계  1.429939e+12  1.473898e+12  1.152064e+12  \n",
       "3  APS홀딩스     12     자본총계  2.147857e+11  2.355896e+11  1.832762e+11  \n",
       "4   AP시스템     12     자본총계  1.141229e+11  1.064151e+11  8.948934e+10  "
      ]
     },
     "execution_count": 25,
     "metadata": {},
     "output_type": "execute_result"
    }
   ],
   "source": [
    "table3.head()"
   ]
  },
  {
   "cell_type": "code",
   "execution_count": 29,
   "metadata": {},
   "outputs": [],
   "source": [
    "table3['부채비율']=table3['당기_x']/table3['당기_y']*100"
   ]
  },
  {
   "cell_type": "code",
   "execution_count": 32,
   "metadata": {},
   "outputs": [
    {
     "data": {
      "text/html": [
       "<div>\n",
       "<style scoped>\n",
       "    .dataframe tbody tr th:only-of-type {\n",
       "        vertical-align: middle;\n",
       "    }\n",
       "\n",
       "    .dataframe tbody tr th {\n",
       "        vertical-align: top;\n",
       "    }\n",
       "\n",
       "    .dataframe thead th {\n",
       "        text-align: right;\n",
       "    }\n",
       "</style>\n",
       "<table border=\"1\" class=\"dataframe\">\n",
       "  <thead>\n",
       "    <tr style=\"text-align: right;\">\n",
       "      <th></th>\n",
       "      <th>회사명_x</th>\n",
       "      <th>종목코드</th>\n",
       "      <th>결산월_x</th>\n",
       "      <th>항목명_x</th>\n",
       "      <th>당기_x</th>\n",
       "      <th>전기_x</th>\n",
       "      <th>전전기_x</th>\n",
       "      <th>회사명_y</th>\n",
       "      <th>결산월_y</th>\n",
       "      <th>항목명_y</th>\n",
       "      <th>당기_y</th>\n",
       "      <th>전기_y</th>\n",
       "      <th>전전기_y</th>\n",
       "      <th>부채비율</th>\n",
       "    </tr>\n",
       "  </thead>\n",
       "  <tbody>\n",
       "    <tr>\n",
       "      <th>0</th>\n",
       "      <td>3S</td>\n",
       "      <td>[060310]</td>\n",
       "      <td>3</td>\n",
       "      <td>부채총계</td>\n",
       "      <td>1.895754e+10</td>\n",
       "      <td>1.876866e+10</td>\n",
       "      <td>2.452724e+10</td>\n",
       "      <td>3S</td>\n",
       "      <td>3</td>\n",
       "      <td>자본총계</td>\n",
       "      <td>3.437168e+10</td>\n",
       "      <td>3.075234e+10</td>\n",
       "      <td>2.917967e+10</td>\n",
       "      <td>55.154527</td>\n",
       "    </tr>\n",
       "    <tr>\n",
       "      <th>3</th>\n",
       "      <td>APS홀딩스</td>\n",
       "      <td>[054620]</td>\n",
       "      <td>12</td>\n",
       "      <td>부채총계</td>\n",
       "      <td>8.292250e+10</td>\n",
       "      <td>4.761427e+10</td>\n",
       "      <td>4.850679e+10</td>\n",
       "      <td>APS홀딩스</td>\n",
       "      <td>12</td>\n",
       "      <td>자본총계</td>\n",
       "      <td>2.147857e+11</td>\n",
       "      <td>2.355896e+11</td>\n",
       "      <td>1.832762e+11</td>\n",
       "      <td>38.607079</td>\n",
       "    </tr>\n",
       "    <tr>\n",
       "      <th>5</th>\n",
       "      <td>BGF</td>\n",
       "      <td>[027410]</td>\n",
       "      <td>12</td>\n",
       "      <td>부채총계</td>\n",
       "      <td>1.291267e+11</td>\n",
       "      <td>9.266054e+10</td>\n",
       "      <td>1.328877e+11</td>\n",
       "      <td>BGF</td>\n",
       "      <td>12</td>\n",
       "      <td>자본총계</td>\n",
       "      <td>1.528255e+12</td>\n",
       "      <td>1.532214e+12</td>\n",
       "      <td>7.252309e+11</td>\n",
       "      <td>8.449294</td>\n",
       "    </tr>\n",
       "    <tr>\n",
       "      <th>7</th>\n",
       "      <td>BYC</td>\n",
       "      <td>[001460]</td>\n",
       "      <td>12</td>\n",
       "      <td>부채총계</td>\n",
       "      <td>2.595554e+11</td>\n",
       "      <td>3.310278e+11</td>\n",
       "      <td>3.464850e+11</td>\n",
       "      <td>BYC</td>\n",
       "      <td>12</td>\n",
       "      <td>자본총계</td>\n",
       "      <td>4.343275e+11</td>\n",
       "      <td>4.074034e+11</td>\n",
       "      <td>3.993382e+11</td>\n",
       "      <td>59.760302</td>\n",
       "    </tr>\n",
       "    <tr>\n",
       "      <th>10</th>\n",
       "      <td>CJ ENM</td>\n",
       "      <td>[035760]</td>\n",
       "      <td>12</td>\n",
       "      <td>부채총계</td>\n",
       "      <td>2.283014e+12</td>\n",
       "      <td>3.329300e+12</td>\n",
       "      <td>1.317714e+12</td>\n",
       "      <td>CJ ENM</td>\n",
       "      <td>12</td>\n",
       "      <td>자본총계</td>\n",
       "      <td>3.151893e+12</td>\n",
       "      <td>3.425648e+12</td>\n",
       "      <td>1.484104e+12</td>\n",
       "      <td>72.433098</td>\n",
       "    </tr>\n",
       "    <tr>\n",
       "      <th>...</th>\n",
       "      <td>...</td>\n",
       "      <td>...</td>\n",
       "      <td>...</td>\n",
       "      <td>...</td>\n",
       "      <td>...</td>\n",
       "      <td>...</td>\n",
       "      <td>...</td>\n",
       "      <td>...</td>\n",
       "      <td>...</td>\n",
       "      <td>...</td>\n",
       "      <td>...</td>\n",
       "      <td>...</td>\n",
       "      <td>...</td>\n",
       "      <td>...</td>\n",
       "    </tr>\n",
       "    <tr>\n",
       "      <th>1648</th>\n",
       "      <td>휴온스글로벌</td>\n",
       "      <td>[084110]</td>\n",
       "      <td>12</td>\n",
       "      <td>부채총계</td>\n",
       "      <td>1.603538e+11</td>\n",
       "      <td>1.342435e+11</td>\n",
       "      <td>1.191499e+11</td>\n",
       "      <td>휴온스글로벌</td>\n",
       "      <td>12</td>\n",
       "      <td>자본총계</td>\n",
       "      <td>5.817987e+11</td>\n",
       "      <td>5.386332e+11</td>\n",
       "      <td>4.909965e+11</td>\n",
       "      <td>27.561728</td>\n",
       "    </tr>\n",
       "    <tr>\n",
       "      <th>1649</th>\n",
       "      <td>휴젤</td>\n",
       "      <td>[145020]</td>\n",
       "      <td>12</td>\n",
       "      <td>부채총계</td>\n",
       "      <td>1.504191e+11</td>\n",
       "      <td>1.334833e+11</td>\n",
       "      <td>1.030099e+11</td>\n",
       "      <td>휴젤</td>\n",
       "      <td>12</td>\n",
       "      <td>자본총계</td>\n",
       "      <td>7.442709e+11</td>\n",
       "      <td>7.847832e+11</td>\n",
       "      <td>7.179199e+11</td>\n",
       "      <td>20.210258</td>\n",
       "    </tr>\n",
       "    <tr>\n",
       "      <th>1650</th>\n",
       "      <td>휴켐스</td>\n",
       "      <td>[069260]</td>\n",
       "      <td>12</td>\n",
       "      <td>부채총계</td>\n",
       "      <td>2.422166e+11</td>\n",
       "      <td>1.986721e+11</td>\n",
       "      <td>2.827643e+11</td>\n",
       "      <td>휴켐스</td>\n",
       "      <td>12</td>\n",
       "      <td>자본총계</td>\n",
       "      <td>6.716512e+11</td>\n",
       "      <td>6.660624e+11</td>\n",
       "      <td>5.988150e+11</td>\n",
       "      <td>36.062847</td>\n",
       "    </tr>\n",
       "    <tr>\n",
       "      <th>1651</th>\n",
       "      <td>흥국</td>\n",
       "      <td>[010240]</td>\n",
       "      <td>12</td>\n",
       "      <td>부채총계</td>\n",
       "      <td>2.486927e+10</td>\n",
       "      <td>2.667879e+10</td>\n",
       "      <td>2.277970e+10</td>\n",
       "      <td>흥국</td>\n",
       "      <td>12</td>\n",
       "      <td>자본총계</td>\n",
       "      <td>6.748899e+10</td>\n",
       "      <td>6.165845e+10</td>\n",
       "      <td>5.525575e+10</td>\n",
       "      <td>36.849374</td>\n",
       "    </tr>\n",
       "    <tr>\n",
       "      <th>1652</th>\n",
       "      <td>흥국에프엔비</td>\n",
       "      <td>[189980]</td>\n",
       "      <td>12</td>\n",
       "      <td>부채총계</td>\n",
       "      <td>2.523555e+10</td>\n",
       "      <td>2.211893e+10</td>\n",
       "      <td>1.281639e+10</td>\n",
       "      <td>흥국에프엔비</td>\n",
       "      <td>12</td>\n",
       "      <td>자본총계</td>\n",
       "      <td>6.406664e+10</td>\n",
       "      <td>5.973322e+10</td>\n",
       "      <td>5.741013e+10</td>\n",
       "      <td>39.389529</td>\n",
       "    </tr>\n",
       "  </tbody>\n",
       "</table>\n",
       "<p>1011 rows × 14 columns</p>\n",
       "</div>"
      ],
      "text/plain": [
       "       회사명_x      종목코드  결산월_x    항목명_x          당기_x          전기_x  \\\n",
       "0         3S  [060310]      3     부채총계  1.895754e+10  1.876866e+10   \n",
       "3     APS홀딩스  [054620]     12     부채총계  8.292250e+10  4.761427e+10   \n",
       "5        BGF  [027410]     12     부채총계  1.291267e+11  9.266054e+10   \n",
       "7        BYC  [001460]     12     부채총계  2.595554e+11  3.310278e+11   \n",
       "10    CJ ENM  [035760]     12     부채총계  2.283014e+12  3.329300e+12   \n",
       "...      ...       ...    ...      ...           ...           ...   \n",
       "1648  휴온스글로벌  [084110]     12     부채총계  1.603538e+11  1.342435e+11   \n",
       "1649      휴젤  [145020]     12     부채총계  1.504191e+11  1.334833e+11   \n",
       "1650     휴켐스  [069260]     12     부채총계  2.422166e+11  1.986721e+11   \n",
       "1651      흥국  [010240]     12     부채총계  2.486927e+10  2.667879e+10   \n",
       "1652  흥국에프엔비  [189980]     12     부채총계  2.523555e+10  2.211893e+10   \n",
       "\n",
       "             전전기_x   회사명_y  결산월_y    항목명_y          당기_y          전기_y  \\\n",
       "0     2.452724e+10      3S      3     자본총계  3.437168e+10  3.075234e+10   \n",
       "3     4.850679e+10  APS홀딩스     12     자본총계  2.147857e+11  2.355896e+11   \n",
       "5     1.328877e+11     BGF     12     자본총계  1.528255e+12  1.532214e+12   \n",
       "7     3.464850e+11     BYC     12     자본총계  4.343275e+11  4.074034e+11   \n",
       "10    1.317714e+12  CJ ENM     12     자본총계  3.151893e+12  3.425648e+12   \n",
       "...            ...     ...    ...      ...           ...           ...   \n",
       "1648  1.191499e+11  휴온스글로벌     12     자본총계  5.817987e+11  5.386332e+11   \n",
       "1649  1.030099e+11      휴젤     12     자본총계  7.442709e+11  7.847832e+11   \n",
       "1650  2.827643e+11     휴켐스     12     자본총계  6.716512e+11  6.660624e+11   \n",
       "1651  2.277970e+10      흥국     12     자본총계  6.748899e+10  6.165845e+10   \n",
       "1652  1.281639e+10  흥국에프엔비     12     자본총계  6.406664e+10  5.973322e+10   \n",
       "\n",
       "             전전기_y       부채비율  \n",
       "0     2.917967e+10  55.154527  \n",
       "3     1.832762e+11  38.607079  \n",
       "5     7.252309e+11   8.449294  \n",
       "7     3.993382e+11  59.760302  \n",
       "10    1.484104e+12  72.433098  \n",
       "...            ...        ...  \n",
       "1648  4.909965e+11  27.561728  \n",
       "1649  7.179199e+11  20.210258  \n",
       "1650  5.988150e+11  36.062847  \n",
       "1651  5.525575e+10  36.849374  \n",
       "1652  5.741013e+10  39.389529  \n",
       "\n",
       "[1011 rows x 14 columns]"
      ]
     },
     "execution_count": 32,
     "metadata": {},
     "output_type": "execute_result"
    }
   ],
   "source": [
    "table3[table3['부채비율']<100]"
   ]
  },
  {
   "cell_type": "code",
   "execution_count": 37,
   "metadata": {},
   "outputs": [],
   "source": [
    "df_sales1 = df4[df4['항목명']=='영업이익']\n",
    "df_sales2 = df4[df4['항목명']=='영업이익(손실)']\n",
    "df_sales = df_sales1.append(df_sales2)"
   ]
  },
  {
   "cell_type": "code",
   "execution_count": 42,
   "metadata": {},
   "outputs": [],
   "source": [
    "df_sales = df_sales[(df_sales['당기']>df_sales['전기'])&(df_sales['전기']>df_sales['전전기'])]"
   ]
  },
  {
   "cell_type": "code",
   "execution_count": 47,
   "metadata": {},
   "outputs": [
    {
     "name": "stderr",
     "output_type": "stream",
     "text": [
      "c:\\users\\nosangho\\documents\\github\\stock\\venv\\lib\\site-packages\\pandas\\core\\indexing.py:670: SettingWithCopyWarning: \n",
      "A value is trying to be set on a copy of a slice from a DataFrame\n",
      "\n",
      "See the caveats in the documentation: https://pandas.pydata.org/pandas-docs/stable/user_guide/indexing.html#returning-a-view-versus-a-copy\n",
      "  self._setitem_with_indexer(indexer, value)\n"
     ]
    }
   ],
   "source": [
    "df_sales['항목명']=\"영업이익\""
   ]
  },
  {
   "cell_type": "code",
   "execution_count": 48,
   "metadata": {},
   "outputs": [
    {
     "data": {
      "text/html": [
       "<div>\n",
       "<style scoped>\n",
       "    .dataframe tbody tr th:only-of-type {\n",
       "        vertical-align: middle;\n",
       "    }\n",
       "\n",
       "    .dataframe tbody tr th {\n",
       "        vertical-align: top;\n",
       "    }\n",
       "\n",
       "    .dataframe thead th {\n",
       "        text-align: right;\n",
       "    }\n",
       "</style>\n",
       "<table border=\"1\" class=\"dataframe\">\n",
       "  <thead>\n",
       "    <tr style=\"text-align: right;\">\n",
       "      <th></th>\n",
       "      <th>회사명</th>\n",
       "      <th>종목코드</th>\n",
       "      <th>결산월</th>\n",
       "      <th>항목명</th>\n",
       "      <th>당기</th>\n",
       "      <th>전기</th>\n",
       "      <th>전전기</th>\n",
       "    </tr>\n",
       "  </thead>\n",
       "  <tbody>\n",
       "    <tr>\n",
       "      <th>6</th>\n",
       "      <td>3S</td>\n",
       "      <td>[060310]</td>\n",
       "      <td>3</td>\n",
       "      <td>영업이익</td>\n",
       "      <td>1.66215e+09</td>\n",
       "      <td>3.33311e+08</td>\n",
       "      <td>-2.42122e+09</td>\n",
       "    </tr>\n",
       "    <tr>\n",
       "      <th>409</th>\n",
       "      <td>CJ프레시웨이</td>\n",
       "      <td>[051500]</td>\n",
       "      <td>12</td>\n",
       "      <td>영업이익</td>\n",
       "      <td>5.80754e+10</td>\n",
       "      <td>5.06592e+10</td>\n",
       "      <td>4.38799e+10</td>\n",
       "    </tr>\n",
       "    <tr>\n",
       "      <th>1010</th>\n",
       "      <td>GRT</td>\n",
       "      <td>[900290]</td>\n",
       "      <td>6</td>\n",
       "      <td>영업이익</td>\n",
       "      <td>4.65579e+08</td>\n",
       "      <td>3.79388e+08</td>\n",
       "      <td>3.52537e+08</td>\n",
       "    </tr>\n",
       "    <tr>\n",
       "      <th>2151</th>\n",
       "      <td>KSS해운</td>\n",
       "      <td>[044450]</td>\n",
       "      <td>12</td>\n",
       "      <td>영업이익</td>\n",
       "      <td>5.29347e+10</td>\n",
       "      <td>4.71105e+10</td>\n",
       "      <td>4.50746e+10</td>\n",
       "    </tr>\n",
       "    <tr>\n",
       "      <th>3161</th>\n",
       "      <td>SBI핀테크솔루션즈</td>\n",
       "      <td>[950110]</td>\n",
       "      <td>3</td>\n",
       "      <td>영업이익</td>\n",
       "      <td>1.40075e+09</td>\n",
       "      <td>9.66275e+08</td>\n",
       "      <td>5.46335e+08</td>\n",
       "    </tr>\n",
       "    <tr>\n",
       "      <th>...</th>\n",
       "      <td>...</td>\n",
       "      <td>...</td>\n",
       "      <td>...</td>\n",
       "      <td>...</td>\n",
       "      <td>...</td>\n",
       "      <td>...</td>\n",
       "      <td>...</td>\n",
       "    </tr>\n",
       "    <tr>\n",
       "      <th>49662</th>\n",
       "      <td>혜인</td>\n",
       "      <td>[003010]</td>\n",
       "      <td>12</td>\n",
       "      <td>영업이익</td>\n",
       "      <td>1.18037e+10</td>\n",
       "      <td>6.17053e+09</td>\n",
       "      <td>2.5121e+09</td>\n",
       "    </tr>\n",
       "    <tr>\n",
       "      <th>49928</th>\n",
       "      <td>화신</td>\n",
       "      <td>[010690]</td>\n",
       "      <td>12</td>\n",
       "      <td>영업이익</td>\n",
       "      <td>1.94211e+09</td>\n",
       "      <td>-2.10873e+10</td>\n",
       "      <td>-2.28434e+10</td>\n",
       "    </tr>\n",
       "    <tr>\n",
       "      <th>50282</th>\n",
       "      <td>휠라홀딩스</td>\n",
       "      <td>[081660]</td>\n",
       "      <td>12</td>\n",
       "      <td>영업이익</td>\n",
       "      <td>4.70676e+11</td>\n",
       "      <td>3.57102e+11</td>\n",
       "      <td>2.17466e+11</td>\n",
       "    </tr>\n",
       "    <tr>\n",
       "      <th>50711</th>\n",
       "      <td>흥국에프엔비</td>\n",
       "      <td>[189980]</td>\n",
       "      <td>12</td>\n",
       "      <td>영업이익</td>\n",
       "      <td>5.81314e+09</td>\n",
       "      <td>4.25203e+09</td>\n",
       "      <td>2.87774e+09</td>\n",
       "    </tr>\n",
       "    <tr>\n",
       "      <th>항목명</th>\n",
       "      <td>영업이익</td>\n",
       "      <td>영업이익</td>\n",
       "      <td>영업이익</td>\n",
       "      <td>영업이익</td>\n",
       "      <td>영업이익</td>\n",
       "      <td>영업이익</td>\n",
       "      <td>영업이익</td>\n",
       "    </tr>\n",
       "  </tbody>\n",
       "</table>\n",
       "<p>323 rows × 7 columns</p>\n",
       "</div>"
      ],
      "text/plain": [
       "              회사명      종목코드   결산월   항목명           당기           전기          전전기\n",
       "6              3S  [060310]     3  영업이익  1.66215e+09  3.33311e+08 -2.42122e+09\n",
       "409       CJ프레시웨이  [051500]    12  영업이익  5.80754e+10  5.06592e+10  4.38799e+10\n",
       "1010          GRT  [900290]     6  영업이익  4.65579e+08  3.79388e+08  3.52537e+08\n",
       "2151        KSS해운  [044450]    12  영업이익  5.29347e+10  4.71105e+10  4.50746e+10\n",
       "3161   SBI핀테크솔루션즈  [950110]     3  영업이익  1.40075e+09  9.66275e+08  5.46335e+08\n",
       "...           ...       ...   ...   ...          ...          ...          ...\n",
       "49662          혜인  [003010]    12  영업이익  1.18037e+10  6.17053e+09   2.5121e+09\n",
       "49928          화신  [010690]    12  영업이익  1.94211e+09 -2.10873e+10 -2.28434e+10\n",
       "50282       휠라홀딩스  [081660]    12  영업이익  4.70676e+11  3.57102e+11  2.17466e+11\n",
       "50711      흥국에프엔비  [189980]    12  영업이익  5.81314e+09  4.25203e+09  2.87774e+09\n",
       "항목명          영업이익      영업이익  영업이익  영업이익         영업이익         영업이익         영업이익\n",
       "\n",
       "[323 rows x 7 columns]"
      ]
     },
     "execution_count": 48,
     "metadata": {},
     "output_type": "execute_result"
    }
   ],
   "source": [
    "df_sales"
   ]
  },
  {
   "cell_type": "code",
   "execution_count": null,
   "metadata": {},
   "outputs": [],
   "source": []
  },
  {
   "cell_type": "code",
   "execution_count": null,
   "metadata": {},
   "outputs": [],
   "source": []
  },
  {
   "cell_type": "code",
   "execution_count": 9,
   "metadata": {},
   "outputs": [
    {
     "data": {
      "text/html": [
       "<div>\n",
       "<style scoped>\n",
       "    .dataframe tbody tr th:only-of-type {\n",
       "        vertical-align: middle;\n",
       "    }\n",
       "\n",
       "    .dataframe tbody tr th {\n",
       "        vertical-align: top;\n",
       "    }\n",
       "\n",
       "    .dataframe thead th {\n",
       "        text-align: right;\n",
       "    }\n",
       "</style>\n",
       "<table border=\"1\" class=\"dataframe\">\n",
       "  <thead>\n",
       "    <tr style=\"text-align: right;\">\n",
       "      <th></th>\n",
       "      <th>회사명</th>\n",
       "      <th>종목코드</th>\n",
       "      <th>결산월</th>\n",
       "      <th>항목명</th>\n",
       "      <th>당기</th>\n",
       "      <th>전기</th>\n",
       "      <th>전전기</th>\n",
       "    </tr>\n",
       "  </thead>\n",
       "  <tbody>\n",
       "    <tr>\n",
       "      <th>2</th>\n",
       "      <td>3S</td>\n",
       "      <td>[060310]</td>\n",
       "      <td>3</td>\n",
       "      <td>매출총이익</td>\n",
       "      <td>5.313719e+09</td>\n",
       "      <td>3.299228e+09</td>\n",
       "      <td>2.111867e+09</td>\n",
       "    </tr>\n",
       "    <tr>\n",
       "      <th>62</th>\n",
       "      <td>AK홀딩스</td>\n",
       "      <td>[006840]</td>\n",
       "      <td>12</td>\n",
       "      <td>매출총이익</td>\n",
       "      <td>9.270618e+11</td>\n",
       "      <td>1.045615e+12</td>\n",
       "      <td>1.064279e+12</td>\n",
       "    </tr>\n",
       "    <tr>\n",
       "      <th>93</th>\n",
       "      <td>APS홀딩스</td>\n",
       "      <td>[054620]</td>\n",
       "      <td>12</td>\n",
       "      <td>매출총이익</td>\n",
       "      <td>8.465854e+09</td>\n",
       "      <td>1.256111e+10</td>\n",
       "      <td>1.312131e+10</td>\n",
       "    </tr>\n",
       "    <tr>\n",
       "      <th>133</th>\n",
       "      <td>AP시스템</td>\n",
       "      <td>[265520]</td>\n",
       "      <td>12</td>\n",
       "      <td>매출총이익</td>\n",
       "      <td>7.262204e+10</td>\n",
       "      <td>1.011713e+11</td>\n",
       "      <td>6.207611e+10</td>\n",
       "    </tr>\n",
       "    <tr>\n",
       "      <th>162</th>\n",
       "      <td>BGF</td>\n",
       "      <td>[027410]</td>\n",
       "      <td>12</td>\n",
       "      <td>매출총이익</td>\n",
       "      <td>1.304363e+11</td>\n",
       "      <td>1.200831e+11</td>\n",
       "      <td>7.919136e+10</td>\n",
       "    </tr>\n",
       "  </tbody>\n",
       "</table>\n",
       "</div>"
      ],
      "text/plain": [
       "        회사명      종목코드  결산월    항목명            당기            전기           전전기\n",
       "2        3S  [060310]    3  매출총이익  5.313719e+09  3.299228e+09  2.111867e+09\n",
       "62    AK홀딩스  [006840]   12  매출총이익  9.270618e+11  1.045615e+12  1.064279e+12\n",
       "93   APS홀딩스  [054620]   12  매출총이익  8.465854e+09  1.256111e+10  1.312131e+10\n",
       "133   AP시스템  [265520]   12  매출총이익  7.262204e+10  1.011713e+11  6.207611e+10\n",
       "162     BGF  [027410]   12  매출총이익  1.304363e+11  1.200831e+11  7.919136e+10"
      ]
     },
     "execution_count": 9,
     "metadata": {},
     "output_type": "execute_result"
    }
   ],
   "source": [
    "df_ts.head()"
   ]
  },
  {
   "cell_type": "code",
   "execution_count": 10,
   "metadata": {},
   "outputs": [
    {
     "data": {
      "text/html": [
       "<div>\n",
       "<style scoped>\n",
       "    .dataframe tbody tr th:only-of-type {\n",
       "        vertical-align: middle;\n",
       "    }\n",
       "\n",
       "    .dataframe tbody tr th {\n",
       "        vertical-align: top;\n",
       "    }\n",
       "\n",
       "    .dataframe thead th {\n",
       "        text-align: right;\n",
       "    }\n",
       "</style>\n",
       "<table border=\"1\" class=\"dataframe\">\n",
       "  <thead>\n",
       "    <tr style=\"text-align: right;\">\n",
       "      <th></th>\n",
       "      <th>회사명</th>\n",
       "      <th>종목코드</th>\n",
       "      <th>결산월</th>\n",
       "      <th>항목명</th>\n",
       "      <th>당기</th>\n",
       "      <th>전기</th>\n",
       "      <th>전전기</th>\n",
       "    </tr>\n",
       "  </thead>\n",
       "  <tbody>\n",
       "    <tr>\n",
       "      <th>44</th>\n",
       "      <td>3S</td>\n",
       "      <td>[060310]</td>\n",
       "      <td>3</td>\n",
       "      <td>자본총계</td>\n",
       "      <td>3.437168e+10</td>\n",
       "      <td>3.075234e+10</td>\n",
       "      <td>2.917967e+10</td>\n",
       "    </tr>\n",
       "    <tr>\n",
       "      <th>99</th>\n",
       "      <td>AJ네트웍스</td>\n",
       "      <td>[095570]</td>\n",
       "      <td>12</td>\n",
       "      <td>자본총계</td>\n",
       "      <td>3.473412e+11</td>\n",
       "      <td>4.918080e+11</td>\n",
       "      <td>4.471729e+11</td>\n",
       "    </tr>\n",
       "    <tr>\n",
       "      <th>158</th>\n",
       "      <td>AK홀딩스</td>\n",
       "      <td>[006840]</td>\n",
       "      <td>12</td>\n",
       "      <td>자본총계</td>\n",
       "      <td>1.429939e+12</td>\n",
       "      <td>1.473898e+12</td>\n",
       "      <td>1.152064e+12</td>\n",
       "    </tr>\n",
       "    <tr>\n",
       "      <th>222</th>\n",
       "      <td>APS홀딩스</td>\n",
       "      <td>[054620]</td>\n",
       "      <td>12</td>\n",
       "      <td>자본총계</td>\n",
       "      <td>2.147857e+11</td>\n",
       "      <td>2.355896e+11</td>\n",
       "      <td>1.832762e+11</td>\n",
       "    </tr>\n",
       "    <tr>\n",
       "      <th>270</th>\n",
       "      <td>AP시스템</td>\n",
       "      <td>[265520]</td>\n",
       "      <td>12</td>\n",
       "      <td>자본총계</td>\n",
       "      <td>1.141229e+11</td>\n",
       "      <td>1.064151e+11</td>\n",
       "      <td>8.948934e+10</td>\n",
       "    </tr>\n",
       "  </tbody>\n",
       "</table>\n",
       "</div>"
      ],
      "text/plain": [
       "        회사명      종목코드  결산월      항목명            당기            전기           전전기\n",
       "44       3S  [060310]    3     자본총계  3.437168e+10  3.075234e+10  2.917967e+10\n",
       "99   AJ네트웍스  [095570]   12     자본총계  3.473412e+11  4.918080e+11  4.471729e+11\n",
       "158   AK홀딩스  [006840]   12     자본총계  1.429939e+12  1.473898e+12  1.152064e+12\n",
       "222  APS홀딩스  [054620]   12     자본총계  2.147857e+11  2.355896e+11  1.832762e+11\n",
       "270   AP시스템  [265520]   12     자본총계  1.141229e+11  1.064151e+11  8.948934e+10"
      ]
     },
     "execution_count": 10,
     "metadata": {},
     "output_type": "execute_result"
    }
   ],
   "source": [
    "df_tm.head()"
   ]
  },
  {
   "cell_type": "code",
   "execution_count": 11,
   "metadata": {},
   "outputs": [],
   "source": [
    "result = pd.merge(df_ts, df_tm, on=['회사명'])"
   ]
  },
  {
   "cell_type": "code",
   "execution_count": 12,
   "metadata": {},
   "outputs": [
    {
     "data": {
      "text/html": [
       "<div>\n",
       "<style scoped>\n",
       "    .dataframe tbody tr th:only-of-type {\n",
       "        vertical-align: middle;\n",
       "    }\n",
       "\n",
       "    .dataframe tbody tr th {\n",
       "        vertical-align: top;\n",
       "    }\n",
       "\n",
       "    .dataframe thead th {\n",
       "        text-align: right;\n",
       "    }\n",
       "</style>\n",
       "<table border=\"1\" class=\"dataframe\">\n",
       "  <thead>\n",
       "    <tr style=\"text-align: right;\">\n",
       "      <th></th>\n",
       "      <th>회사명</th>\n",
       "      <th>종목코드_x</th>\n",
       "      <th>결산월_x</th>\n",
       "      <th>항목명_x</th>\n",
       "      <th>당기_x</th>\n",
       "      <th>전기_x</th>\n",
       "      <th>전전기_x</th>\n",
       "      <th>종목코드_y</th>\n",
       "      <th>결산월_y</th>\n",
       "      <th>항목명_y</th>\n",
       "      <th>당기_y</th>\n",
       "      <th>전기_y</th>\n",
       "      <th>전전기_y</th>\n",
       "    </tr>\n",
       "  </thead>\n",
       "  <tbody>\n",
       "    <tr>\n",
       "      <th>0</th>\n",
       "      <td>3S</td>\n",
       "      <td>[060310]</td>\n",
       "      <td>3</td>\n",
       "      <td>매출총이익</td>\n",
       "      <td>5.313719e+09</td>\n",
       "      <td>3.299228e+09</td>\n",
       "      <td>2.111867e+09</td>\n",
       "      <td>[060310]</td>\n",
       "      <td>3</td>\n",
       "      <td>자본총계</td>\n",
       "      <td>3.437168e+10</td>\n",
       "      <td>3.075234e+10</td>\n",
       "      <td>2.917967e+10</td>\n",
       "    </tr>\n",
       "    <tr>\n",
       "      <th>1</th>\n",
       "      <td>AK홀딩스</td>\n",
       "      <td>[006840]</td>\n",
       "      <td>12</td>\n",
       "      <td>매출총이익</td>\n",
       "      <td>9.270618e+11</td>\n",
       "      <td>1.045615e+12</td>\n",
       "      <td>1.064279e+12</td>\n",
       "      <td>[006840]</td>\n",
       "      <td>12</td>\n",
       "      <td>자본총계</td>\n",
       "      <td>1.429939e+12</td>\n",
       "      <td>1.473898e+12</td>\n",
       "      <td>1.152064e+12</td>\n",
       "    </tr>\n",
       "    <tr>\n",
       "      <th>2</th>\n",
       "      <td>APS홀딩스</td>\n",
       "      <td>[054620]</td>\n",
       "      <td>12</td>\n",
       "      <td>매출총이익</td>\n",
       "      <td>8.465854e+09</td>\n",
       "      <td>1.256111e+10</td>\n",
       "      <td>1.312131e+10</td>\n",
       "      <td>[054620]</td>\n",
       "      <td>12</td>\n",
       "      <td>자본총계</td>\n",
       "      <td>2.147857e+11</td>\n",
       "      <td>2.355896e+11</td>\n",
       "      <td>1.832762e+11</td>\n",
       "    </tr>\n",
       "    <tr>\n",
       "      <th>3</th>\n",
       "      <td>AP시스템</td>\n",
       "      <td>[265520]</td>\n",
       "      <td>12</td>\n",
       "      <td>매출총이익</td>\n",
       "      <td>7.262204e+10</td>\n",
       "      <td>1.011713e+11</td>\n",
       "      <td>6.207611e+10</td>\n",
       "      <td>[265520]</td>\n",
       "      <td>12</td>\n",
       "      <td>자본총계</td>\n",
       "      <td>1.141229e+11</td>\n",
       "      <td>1.064151e+11</td>\n",
       "      <td>8.948934e+10</td>\n",
       "    </tr>\n",
       "    <tr>\n",
       "      <th>4</th>\n",
       "      <td>BGF</td>\n",
       "      <td>[027410]</td>\n",
       "      <td>12</td>\n",
       "      <td>매출총이익</td>\n",
       "      <td>1.304363e+11</td>\n",
       "      <td>1.200831e+11</td>\n",
       "      <td>7.919136e+10</td>\n",
       "      <td>[027410]</td>\n",
       "      <td>12</td>\n",
       "      <td>자본총계</td>\n",
       "      <td>1.528255e+12</td>\n",
       "      <td>1.532214e+12</td>\n",
       "      <td>7.252309e+11</td>\n",
       "    </tr>\n",
       "  </tbody>\n",
       "</table>\n",
       "</div>"
      ],
      "text/plain": [
       "      회사명    종목코드_x  결산월_x  항목명_x          당기_x          전기_x         전전기_x  \\\n",
       "0      3S  [060310]      3  매출총이익  5.313719e+09  3.299228e+09  2.111867e+09   \n",
       "1   AK홀딩스  [006840]     12  매출총이익  9.270618e+11  1.045615e+12  1.064279e+12   \n",
       "2  APS홀딩스  [054620]     12  매출총이익  8.465854e+09  1.256111e+10  1.312131e+10   \n",
       "3   AP시스템  [265520]     12  매출총이익  7.262204e+10  1.011713e+11  6.207611e+10   \n",
       "4     BGF  [027410]     12  매출총이익  1.304363e+11  1.200831e+11  7.919136e+10   \n",
       "\n",
       "     종목코드_y  결산월_y    항목명_y          당기_y          전기_y         전전기_y  \n",
       "0  [060310]      3     자본총계  3.437168e+10  3.075234e+10  2.917967e+10  \n",
       "1  [006840]     12     자본총계  1.429939e+12  1.473898e+12  1.152064e+12  \n",
       "2  [054620]     12     자본총계  2.147857e+11  2.355896e+11  1.832762e+11  \n",
       "3  [265520]     12     자본총계  1.141229e+11  1.064151e+11  8.948934e+10  \n",
       "4  [027410]     12     자본총계  1.528255e+12  1.532214e+12  7.252309e+11  "
      ]
     },
     "execution_count": 12,
     "metadata": {},
     "output_type": "execute_result"
    }
   ],
   "source": [
    "result.head()"
   ]
  },
  {
   "cell_type": "code",
   "execution_count": 13,
   "metadata": {},
   "outputs": [],
   "source": [
    "result['magic']=result['당기_x']/result['당기_y']"
   ]
  },
  {
   "cell_type": "code",
   "execution_count": 14,
   "metadata": {},
   "outputs": [],
   "source": [
    "magic = result[['회사명', 'magic']]\n",
    "magic = magic[magic['magic']>0]"
   ]
  },
  {
   "cell_type": "code",
   "execution_count": 16,
   "metadata": {},
   "outputs": [
    {
     "data": {
      "text/html": [
       "<div>\n",
       "<style scoped>\n",
       "    .dataframe tbody tr th:only-of-type {\n",
       "        vertical-align: middle;\n",
       "    }\n",
       "\n",
       "    .dataframe tbody tr th {\n",
       "        vertical-align: top;\n",
       "    }\n",
       "\n",
       "    .dataframe thead th {\n",
       "        text-align: right;\n",
       "    }\n",
       "</style>\n",
       "<table border=\"1\" class=\"dataframe\">\n",
       "  <thead>\n",
       "    <tr style=\"text-align: right;\">\n",
       "      <th></th>\n",
       "      <th>회사명</th>\n",
       "      <th>magic</th>\n",
       "    </tr>\n",
       "  </thead>\n",
       "  <tbody>\n",
       "    <tr>\n",
       "      <th>130</th>\n",
       "      <td>고려신용정보</td>\n",
       "      <td>5.164648</td>\n",
       "    </tr>\n",
       "    <tr>\n",
       "      <th>1039</th>\n",
       "      <td>지어소프트</td>\n",
       "      <td>4.128517</td>\n",
       "    </tr>\n",
       "    <tr>\n",
       "      <th>1344</th>\n",
       "      <td>형지I&amp;C</td>\n",
       "      <td>2.683661</td>\n",
       "    </tr>\n",
       "    <tr>\n",
       "      <th>1195</th>\n",
       "      <td>페이퍼코리아</td>\n",
       "      <td>2.434573</td>\n",
       "    </tr>\n",
       "    <tr>\n",
       "      <th>312</th>\n",
       "      <td>디에스티</td>\n",
       "      <td>2.366537</td>\n",
       "    </tr>\n",
       "    <tr>\n",
       "      <th>259</th>\n",
       "      <td>더블유에프엠</td>\n",
       "      <td>2.216750</td>\n",
       "    </tr>\n",
       "    <tr>\n",
       "      <th>1343</th>\n",
       "      <td>현진소재</td>\n",
       "      <td>2.183556</td>\n",
       "    </tr>\n",
       "    <tr>\n",
       "      <th>1272</th>\n",
       "      <td>한국화장품</td>\n",
       "      <td>2.066539</td>\n",
       "    </tr>\n",
       "    <tr>\n",
       "      <th>306</th>\n",
       "      <td>디딤</td>\n",
       "      <td>1.865980</td>\n",
       "    </tr>\n",
       "    <tr>\n",
       "      <th>1117</th>\n",
       "      <td>코웨이</td>\n",
       "      <td>1.864565</td>\n",
       "    </tr>\n",
       "    <tr>\n",
       "      <th>801</th>\n",
       "      <td>예스24</td>\n",
       "      <td>1.774730</td>\n",
       "    </tr>\n",
       "    <tr>\n",
       "      <th>5</th>\n",
       "      <td>BGF리테일</td>\n",
       "      <td>1.696939</td>\n",
       "    </tr>\n",
       "    <tr>\n",
       "      <th>1105</th>\n",
       "      <td>코센</td>\n",
       "      <td>1.694631</td>\n",
       "    </tr>\n",
       "    <tr>\n",
       "      <th>11</th>\n",
       "      <td>CSA 코스믹</td>\n",
       "      <td>1.668749</td>\n",
       "    </tr>\n",
       "    <tr>\n",
       "      <th>208</th>\n",
       "      <td>뉴트리</td>\n",
       "      <td>1.652480</td>\n",
       "    </tr>\n",
       "    <tr>\n",
       "      <th>948</th>\n",
       "      <td>인디에프</td>\n",
       "      <td>1.639103</td>\n",
       "    </tr>\n",
       "    <tr>\n",
       "      <th>1284</th>\n",
       "      <td>한세엠케이</td>\n",
       "      <td>1.613429</td>\n",
       "    </tr>\n",
       "    <tr>\n",
       "      <th>963</th>\n",
       "      <td>인터파크</td>\n",
       "      <td>1.601323</td>\n",
       "    </tr>\n",
       "    <tr>\n",
       "      <th>385</th>\n",
       "      <td>모두투어</td>\n",
       "      <td>1.600001</td>\n",
       "    </tr>\n",
       "    <tr>\n",
       "      <th>575</th>\n",
       "      <td>소프트캠프</td>\n",
       "      <td>1.549599</td>\n",
       "    </tr>\n",
       "  </tbody>\n",
       "</table>\n",
       "</div>"
      ],
      "text/plain": [
       "          회사명     magic\n",
       "130    고려신용정보  5.164648\n",
       "1039    지어소프트  4.128517\n",
       "1344    형지I&C  2.683661\n",
       "1195   페이퍼코리아  2.434573\n",
       "312      디에스티  2.366537\n",
       "259    더블유에프엠  2.216750\n",
       "1343     현진소재  2.183556\n",
       "1272    한국화장품  2.066539\n",
       "306        디딤  1.865980\n",
       "1117      코웨이  1.864565\n",
       "801      예스24  1.774730\n",
       "5      BGF리테일  1.696939\n",
       "1105       코센  1.694631\n",
       "11    CSA 코스믹  1.668749\n",
       "208       뉴트리  1.652480\n",
       "948      인디에프  1.639103\n",
       "1284    한세엠케이  1.613429\n",
       "963      인터파크  1.601323\n",
       "385      모두투어  1.600001\n",
       "575     소프트캠프  1.549599"
      ]
     },
     "execution_count": 16,
     "metadata": {},
     "output_type": "execute_result"
    }
   ],
   "source": [
    "magic.sort_values('magic', axis=0, ascending=False)[:20]"
   ]
  },
  {
   "cell_type": "code",
   "execution_count": null,
   "metadata": {},
   "outputs": [],
   "source": [
    "for i,j in zip(range(1),range(30)):\n",
    "    print(i,j)"
   ]
  },
  {
   "cell_type": "code",
   "execution_count": null,
   "metadata": {},
   "outputs": [],
   "source": []
  }
 ],
 "metadata": {
  "kernelspec": {
   "display_name": "Python 3",
   "language": "python",
   "name": "python3"
  },
  "language_info": {
   "codemirror_mode": {
    "name": "ipython",
    "version": 3
   },
   "file_extension": ".py",
   "mimetype": "text/x-python",
   "name": "python",
   "nbconvert_exporter": "python",
   "pygments_lexer": "ipython3",
   "version": "3.6.4"
  },
  "pycharm": {
   "stem_cell": {
    "cell_type": "raw",
    "metadata": {
     "collapsed": false
    },
    "source": []
   }
  }
 },
 "nbformat": 4,
 "nbformat_minor": 4
}
