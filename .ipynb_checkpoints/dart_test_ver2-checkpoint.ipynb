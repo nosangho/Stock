{
 "cells": [
  {
   "cell_type": "code",
   "execution_count": 1,
   "metadata": {},
   "outputs": [],
   "source": [
    "import dart_fss as dart\n",
    "import pandas as pd\n",
    "import win32com.client\n",
    "import time"
   ]
  },
  {
   "cell_type": "code",
   "execution_count": 2,
   "metadata": {},
   "outputs": [
    {
     "data": {
      "text/plain": [
       "'ebef76b6fa887498f9588ceb2cea36512d042f87'"
      ]
     },
     "execution_count": 2,
     "metadata": {},
     "output_type": "execute_result"
    }
   ],
   "source": [
    "# DART API setting\n",
    "api_key = 'ebef76b6fa887498f9588ceb2cea36512d042f87'\n",
    "dart.set_api_key(api_key=api_key)"
   ]
  },
  {
   "cell_type": "code",
   "execution_count": 3,
   "metadata": {},
   "outputs": [],
   "source": [
    "# 크레온 객체 생성\n",
    "instCpCodeMgr = win32com.client.Dispatch(\"CpUtil.CpCodeMgr\")"
   ]
  },
  {
   "cell_type": "code",
   "execution_count": 4,
   "metadata": {},
   "outputs": [],
   "source": [
    "# 주식 codeList 반환\n",
    "kospiList = instCpCodeMgr.GetStockListByMarket(1)\n",
    "kosdacList = instCpCodeMgr.GetStockListByMarket(2)\n",
    "codeList = kospiList + kosdacList\n",
    "testList = codeList[0:50]"
   ]
  },
  {
   "cell_type": "code",
   "execution_count": 5,
   "metadata": {},
   "outputs": [],
   "source": [
    "crp_list = dart.get_corp_list()"
   ]
  },
  {
   "cell_type": "code",
   "execution_count": 6,
   "metadata": {},
   "outputs": [
    {
     "data": {
      "application/vnd.jupyter.widget-view+json": {
       "model_id": "034c88fa1fdc49e686b6ddb673976c96",
       "version_major": 2,
       "version_minor": 0
      },
      "text/plain": [
       "Output()"
      ]
     },
     "metadata": {},
     "output_type": "display_data"
    },
    {
     "data": {
      "application/vnd.jupyter.widget-view+json": {
       "model_id": "f964af5994d14d2b9ba7cc1384e22739",
       "version_major": 2,
       "version_minor": 0
      },
      "text/plain": [
       "Output()"
      ]
     },
     "metadata": {},
     "output_type": "display_data"
    },
    {
     "data": {
      "text/plain": [
       "'00176914'"
      ]
     },
     "execution_count": 6,
     "metadata": {},
     "output_type": "execute_result"
    }
   ],
   "source": [
    "crp_list.find_by_stock_code('023590').corp_code"
   ]
  },
  {
   "cell_type": "code",
   "execution_count": 7,
   "metadata": {},
   "outputs": [],
   "source": [
    "corp_codes = []\n",
    "for i in range(len(testList)):\n",
    "    code = testList[i][1:]\n",
    "    main_code = crp_list.find_by_stock_code(code)\n",
    "    if main_code != None:\n",
    "        corp_codes.append(main_code)\n",
    "    else:\n",
    "        continue"
   ]
  },
  {
   "cell_type": "code",
   "execution_count": 8,
   "metadata": {},
   "outputs": [],
   "source": [
    "main_codes = []\n",
    "for i in range(len(corp_codes)):   \n",
    "    main_codes.append(corp_codes[i].corp_code)"
   ]
  },
  {
   "cell_type": "code",
   "execution_count": null,
   "metadata": {},
   "outputs": [
    {
     "data": {
      "application/vnd.jupyter.widget-view+json": {
       "model_id": "60c0179454d2408ab228b76d6cea6a05",
       "version_major": 2,
       "version_minor": 0
      },
      "text/plain": [
       "Output()"
      ]
     },
     "metadata": {},
     "output_type": "display_data"
    },
    {
     "data": {
      "application/vnd.jupyter.widget-view+json": {
       "model_id": "3dfaecb4b44c4569a12aa7e52a0a32d5",
       "version_major": 2,
       "version_minor": 0
      },
      "text/plain": [
       "Output()"
      ]
     },
     "metadata": {},
     "output_type": "display_data"
    },
    {
     "data": {
      "application/vnd.jupyter.widget-view+json": {
       "model_id": "3ed21bec29dc4e6f8eba1f8d09ac5cff",
       "version_major": 2,
       "version_minor": 0
      },
      "text/plain": [
       "HBox(children=(FloatProgress(value=0.0, description='Annual reports', max=4.0, style=ProgressStyle(description…"
      ]
     },
     "metadata": {},
     "output_type": "display_data"
    },
    {
     "name": "stdout",
     "output_type": "stream",
     "text": [
      "\n",
      "Error : 00119195 code \n",
      "Error : 00112378 code \n"
     ]
    },
    {
     "data": {
      "application/vnd.jupyter.widget-view+json": {
       "model_id": "d86cd9acc6794c2aa043343cf643a002",
       "version_major": 2,
       "version_minor": 0
      },
      "text/plain": [
       "Output()"
      ]
     },
     "metadata": {},
     "output_type": "display_data"
    },
    {
     "data": {
      "application/vnd.jupyter.widget-view+json": {
       "model_id": "8d794e70aa104c0babcb13d7e55410f3",
       "version_major": 2,
       "version_minor": 0
      },
      "text/plain": [
       "Output()"
      ]
     },
     "metadata": {},
     "output_type": "display_data"
    },
    {
     "data": {
      "application/vnd.jupyter.widget-view+json": {
       "model_id": "1020347e7e384fa68313f88e60fe9bbc",
       "version_major": 2,
       "version_minor": 0
      },
      "text/plain": [
       "HBox(children=(FloatProgress(value=0.0, description='Annual reports', max=4.0, style=ProgressStyle(description…"
      ]
     },
     "metadata": {},
     "output_type": "display_data"
    },
    {
     "name": "stderr",
     "output_type": "stream",
     "text": [
      "c:\\users\\nosangho\\documents\\github\\stock\\venv\\lib\\site-packages\\dart_fss\\fs\\extract.py:204: RuntimeWarning: Date data length does not match table header.So last date was set using last data(19000101). \n",
      "  warnings.warn(warnings_text, RuntimeWarning)\n"
     ]
    },
    {
     "name": "stdout",
     "output_type": "stream",
     "text": [
      "\n",
      "Error : 00101628 code \n"
     ]
    },
    {
     "data": {
      "application/vnd.jupyter.widget-view+json": {
       "model_id": "9da8c1d302c74114899b57f761fed122",
       "version_major": 2,
       "version_minor": 0
      },
      "text/plain": [
       "HBox(children=(FloatProgress(value=0.0, description='Annual reports', max=4.0, style=ProgressStyle(description…"
      ]
     },
     "metadata": {},
     "output_type": "display_data"
    },
    {
     "name": "stdout",
     "output_type": "stream",
     "text": [
      "\n"
     ]
    },
    {
     "name": "stderr",
     "output_type": "stream",
     "text": [
      "c:\\users\\nosangho\\documents\\github\\stock\\venv\\lib\\site-packages\\pandas\\core\\ops\\array_ops.py:253: FutureWarning: elementwise comparison failed; returning scalar instead, but in the future will perform elementwise comparison\n",
      "  res_values = method(rvalues)\n"
     ]
    },
    {
     "name": "stdout",
     "output_type": "stream",
     "text": [
      "Error : 00117744 code \n"
     ]
    },
    {
     "data": {
      "application/vnd.jupyter.widget-view+json": {
       "model_id": "79a817dd7f954ccf913eb220fd5eebc4",
       "version_major": 2,
       "version_minor": 0
      },
      "text/plain": [
       "Output()"
      ]
     },
     "metadata": {},
     "output_type": "display_data"
    },
    {
     "data": {
      "application/vnd.jupyter.widget-view+json": {
       "model_id": "dbe50ed405a54fdfba39bb2c78353fe8",
       "version_major": 2,
       "version_minor": 0
      },
      "text/plain": [
       "Output()"
      ]
     },
     "metadata": {},
     "output_type": "display_data"
    },
    {
     "data": {
      "application/vnd.jupyter.widget-view+json": {
       "model_id": "a1a6eda4509542cabf76e6f14b48810f",
       "version_major": 2,
       "version_minor": 0
      },
      "text/plain": [
       "HBox(children=(FloatProgress(value=0.0, description='Annual reports', max=4.0, style=ProgressStyle(description…"
      ]
     },
     "metadata": {},
     "output_type": "display_data"
    }
   ],
   "source": [
    "for code in main_codes:\n",
    "    try:\n",
    "        fs = dart.fs.extract(corp_code=code, bgn_de='20160101')\n",
    "        \n",
    "        df_fs = fs['bs']     #연결재무상태표 (자산, 부채, 자본)\n",
    "        df_ci = fs['cis']    # 연결포괄손익계산서 (수익, 이익, 손실)\n",
    "        df_cf = fs['cf']    # 현금흐름표 (현금흐름)\n",
    "\n",
    "        col1 = df_fs.columns.get_level_values(0)\n",
    "        col2 = df_fs.columns.get_level_values(1)\n",
    "        col3 = df_ci.columns.get_level_values(0)\n",
    "        col4 = df_ci.columns.get_level_values(1)\n",
    "\n",
    "\n",
    "        col1 = [col for col in col1 if col[:2] == '20']\n",
    "        col2 = [col for col in col2 if type(col) == str]\n",
    "        col3 = [col for col in col3 if col[:2] == '20']\n",
    "        col4 = [col for col in col4 if type(col) == str]\n",
    "        cols_fs = col2+col1\n",
    "        cols_ci = col4+col3\n",
    "\n",
    "        df_fs.columns = df_fs.columns.droplevel()\n",
    "        df_ci.columns = df_ci.columns.droplevel()\n",
    "\n",
    "        df_fs.columns = cols_fs\n",
    "        df_ci.columns = cols_ci\n",
    "        \n",
    "        gp = df_ci[df_ci['label_ko']=='매출총이익']['20190101-20191231'].values[0]\n",
    "        a = df_fs[df_fs['label_ko']=='자본총계']['20191231'].values[0]\n",
    "\n",
    "        print('{} code score : {}'.format(code, gp/a))\n",
    "        \n",
    "        time.sleep(1)\n",
    "    except RuntimeError as e:\n",
    "        print(e)\n",
    "        print('Error : {} code '.format(code))\n",
    "        time.sleep(1)"
   ]
  },
  {
   "cell_type": "code",
   "execution_count": null,
   "metadata": {},
   "outputs": [],
   "source": []
  }
 ],
 "metadata": {
  "kernelspec": {
   "display_name": "Python 3",
   "language": "python",
   "name": "python3"
  },
  "language_info": {
   "codemirror_mode": {
    "name": "ipython",
    "version": 3
   },
   "file_extension": ".py",
   "mimetype": "text/x-python",
   "name": "python",
   "nbconvert_exporter": "python",
   "pygments_lexer": "ipython3",
   "version": "3.7.4"
  }
 },
 "nbformat": 4,
 "nbformat_minor": 4
}
