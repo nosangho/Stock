{
 "cells": [
  {
   "cell_type": "code",
   "execution_count": 1,
   "metadata": {},
   "outputs": [],
   "source": [
    "import requests\n",
    "import pandas as pd\n",
    "from bs4 import BeautifulSoup\n",
    "\n",
    "import time\n",
    "\n",
    "from selenium import webdriver\n",
    "from selenium.webdriver.chrome.options import Options\n",
    "from selenium.webdriver.support.wait import WebDriverWait"
   ]
  },
  {
   "cell_type": "code",
   "execution_count": null,
   "metadata": {},
   "outputs": [],
   "source": [
    "def list_append(value, list_name):\n",
    "    if value != \"N/A\":\n",
    "        list_name.append(value)\n",
    "    else: \n",
    "        list_name.append('Null')"
   ]
  },
  {
   "cell_type": "code",
   "execution_count": 2,
   "metadata": {},
   "outputs": [
    {
     "data": {
      "text/plain": [
       "\"table1 = df3[df3['항목명']=='   부채총계']\\ntable2 = df3[df3['항목명']=='   자본총계']\\ntable3 = pd.merge(table1, table2, on='종목코드')\\n\\ntable3['부채비율']=table3['당기_x']/table3['당기_y']*100\\ntable3[table3['부채비율']<100]\\n\\ndf_sales1 = df4[df4['항목명']=='영업이익']\\ndf_sales2 = df4[df4['항목명']=='영업이익(손실)']\\ndf_sales = df_sales1.append(df_sales2)\""
      ]
     },
     "execution_count": 2,
     "metadata": {},
     "output_type": "execute_result"
    }
   ],
   "source": [
    "df1 = pd.read_excel('./2019.xlsx', sheet_name='연결재무재표')\n",
    "df2 = pd.read_excel('./2019.xlsx', sheet_name='포괄손익계산서_연결')\n",
    "\n",
    "df1_cols = ['회사명', '종목코드', '결산월', '항목명', '당기', '전기', '전전기']\n",
    "df2_cols = ['회사명', '종목코드', '결산월', '항목명', '당기', '전기', '전전기']\n",
    "\n",
    "df3 = df1[df1_cols]\n",
    "df4 = df2[df2_cols]\n",
    "\n",
    "df_ts = df4[df4['항목명']=='매출총이익']\n",
    "df_tm = df3[df3['항목명']=='   자본총계']\n",
    "\n",
    "result = pd.merge(df_ts, df_tm, on=['회사명'])\n",
    "result['magic']=result['당기_x']/result['당기_y']\n",
    "magic = result[['회사명', 'magic']]\n",
    "magic = magic[magic['magic']>0]\n",
    "magic = magic.sort_values('magic', axis=0, ascending=False)\n",
    "\n",
    "\n",
    "\"\"\"table1 = df3[df3['항목명']=='   부채총계']\n",
    "table2 = df3[df3['항목명']=='   자본총계']\n",
    "table3 = pd.merge(table1, table2, on='종목코드')\n",
    "\n",
    "table3['부채비율']=table3['당기_x']/table3['당기_y']*100\n",
    "table3[table3['부채비율']<100]\n",
    "\n",
    "df_sales1 = df4[df4['항목명']=='영업이익']\n",
    "df_sales2 = df4[df4['항목명']=='영업이익(손실)']\n",
    "df_sales = df_sales1.append(df_sales2)\"\"\""
   ]
  },
  {
   "cell_type": "code",
   "execution_count": null,
   "metadata": {},
   "outputs": [],
   "source": [
    "title_list = []\n",
    "start_price_list = []   # 액면가\n",
    "total_price_list = []   # 시가총액\n",
    "total_stocks_list = []  # 상장주식수\n",
    "foreign_rate_list = []  # 외국인비율\n",
    "volume_list = []        # 거래량\n",
    "per_list = []           # PER\n",
    "roe_list = []           # ROE\n",
    "\n",
    "total_sales_list = []  # 매출액\n",
    "total_asset_list = []  # 자산총계       \n",
    "total_debt_list = []   # 부채총계\n",
    "sales_profit_list = [] # 영업이익\n",
    "sales_increase_list = [] # 매출액증가율\n",
    "sales_profit_increase_list = [] # 영업이익 증가율\n",
    "\n",
    "net_income_list = []    # 당기순이익\n",
    "eps_list = []           # 주당순이익\n",
    "dividends_list = []     # 보통주배당금\n",
    "roa_list = []           # ROA\n",
    "pbr_list = []           # PBR\n",
    "reserve_rate_list = []  # 유보율"
   ]
  },
  {
   "cell_type": "code",
   "execution_count": null,
   "metadata": {},
   "outputs": [],
   "source": [
    "browser = webdriver.Chrome(executable_path='./chromedriver')\n",
    "\n",
    "for i in range(30):\n",
    "    url = \"https://finance.naver.com/sise/sise_market_sum.nhn?&page={}\".format(i+1)\n",
    "    browser.get(url)\n",
    "    req = browser.page_source\n",
    "    obj = BeautifulSoup(req, \"html.parser\")\n",
    "    \n",
    "    temp_obj = obj.find('div', {'class':'box_type_l'})\n",
    "    temp_obj = temp_obj.find('tbody')\n",
    "    final_obj = temp_obj.find_all('tr', {'onmouseover':'mouseOver(this)'})\n",
    "    \n",
    "    for i in range(len(final_obj)):\n",
    "        title = final_obj[i].find_all('td')[1].text\n",
    "        start_price = final_obj[i].find_all('td')[5].text.replace(\",\",\"\")\n",
    "        total_price = final_obj[i].find_all('td')[6].text.replace(\",\",\"\")\n",
    "        total_stocks = final_obj[i].find_all('td')[7].text.replace(\",\",\"\")\n",
    "        foreign_rate = final_obj[i].find_all('td')[8].text.replace(\",\",\"\")\n",
    "        volume = final_obj[i].find_all('td')[9].text.replace(\",\",\"\")\n",
    "        per = final_obj[i].find_all('td')[10].text.replace(\",\",\"\")\n",
    "        roe = final_obj[i].find_all('td')[11].text.replace(\",\",\"\")\n",
    "\n",
    "        list_append(title, title_list)\n",
    "        list_append(start_price, start_price_list)\n",
    "        list_append(total_price, total_price_list)\n",
    "        list_append(total_stocks, total_stocks_list)\n",
    "        list_append(foreign_rate, foreign_rate_list)\n",
    "        list_append(volume, volume_list)\n",
    "        list_append(per, per_list)\n",
    "        list_append(roe, roe_list)\n",
    "        "
   ]
  },
  {
   "cell_type": "code",
   "execution_count": null,
   "metadata": {},
   "outputs": [],
   "source": [
    "df1 = pd.DataFrame(list(zip(title_list, \n",
    "                           start_price_list, \n",
    "                           total_price_list, \n",
    "                           total_stocks_list,\n",
    "                           foreign_rate_list,\n",
    "                           volume_list,\n",
    "                           per_list,\n",
    "                           roe_list)),\n",
    "                 columns=['종목명', \n",
    "                          '액면가', \n",
    "                          '시가총액', \n",
    "                          '상장주식수', \n",
    "                          '외국인비율', \n",
    "                          '거래량', \n",
    "                          'PER', \n",
    "                          'ROE'])"
   ]
  },
  {
   "cell_type": "code",
   "execution_count": null,
   "metadata": {},
   "outputs": [],
   "source": []
  },
  {
   "cell_type": "code",
   "execution_count": null,
   "metadata": {},
   "outputs": [],
   "source": [
    "# 거래량 해제\n",
    "browser.find_element_by_xpath('/html/body/div[3]/div[1]/div[2]/div[1]/div[2]/form/div/div/table/tbody/tr[1]/td[1]/input').click()\n",
    "# 외국인 비율 해제\n",
    "browser.find_element_by_xpath('/html/body/div[3]/div[1]/div[2]/div[1]/div[2]/form/div/div/table/tbody/tr[3]/td[3]/input').click()\n",
    "# 상장주식수 해제\n",
    "browser.find_element_by_xpath('/html/body/div[3]/div[1]/div[2]/div[1]/div[2]/form/div/div/table/tbody/tr[4]/td[3]/input').click()\n",
    "# 시가총액 해제\n",
    "browser.find_element_by_xpath('/html/body/div[3]/div[1]/div[2]/div[1]/div[2]/form/div/div/table/tbody/tr[1]/td[4]/input').click()\n",
    "# PER 해제\n",
    "browser.find_element_by_xpath('/html/body/div[3]/div[1]/div[2]/div[1]/div[2]/form/div/div/table/tbody/tr[1]/td[6]/input').click()\n",
    "# ROE 해제\n",
    "browser.find_element_by_xpath('/html/body/div[3]/div[1]/div[2]/div[1]/div[2]/form/div/div/table/tbody/tr[2]/td[6]/input').click()\n",
    "\n",
    "# 매출액 클릭\n",
    "browser.find_element_by_xpath('/html/body/div[3]/div[1]/div[2]/div[1]/div[2]/form/div/div/table/tbody/tr[4]/td[4]/input').click()\n",
    "# 자산총계 클릭\n",
    "browser.find_element_by_xpath('/html/body/div[3]/div[1]/div[2]/div[1]/div[2]/form/div/div/table/tbody/tr[2]/td[4]/input').click()\n",
    "# 부채총계 클릭\n",
    "browser.find_element_by_xpath('/html/body/div[3]/div[1]/div[2]/div[1]/div[2]/form/div/div/table/tbody/tr[3]/td[4]/input').click()\n",
    "# 영업이익 클릭\n",
    "browser.find_element_by_xpath('/html/body/div[3]/div[1]/div[2]/div[1]/div[2]/form/div/div/table/tbody/tr[1]/td[5]/input').click()\n",
    "# 메출액 증가율 클릭\n",
    "browser.find_element_by_xpath('/html/body/div[3]/div[1]/div[2]/div[1]/div[2]/form/div/div/table/tbody/tr[5]/td[4]/input').click()\n",
    "# 영업이익증가율 클릭\n",
    "browser.find_element_by_xpath('/html/body/div[3]/div[1]/div[2]/div[1]/div[2]/form/div/div/table/tbody/tr[2]/td[5]/input').click()\n",
    "\n",
    "# 적용하기 클릭\n",
    "browser.find_element_by_xpath('/html/body/div[3]/div[1]/div[2]/div[1]/div[2]/form/div/div/div/a[1]/img').click()"
   ]
  },
  {
   "cell_type": "code",
   "execution_count": null,
   "metadata": {},
   "outputs": [],
   "source": [
    "for i in range(30):\n",
    "    url = \"https://finance.naver.com/sise/sise_market_sum.nhn?&page={}\".format(i+1)\n",
    "    browser.get(url)\n",
    "    req = browser.page_source\n",
    "    obj = BeautifulSoup(req, \"html.parser\")\n",
    "    \n",
    "    temp_obj = obj.find('div', {'class':'box_type_l'})\n",
    "    temp_obj = temp_obj.find('tbody')\n",
    "    final_obj = temp_obj.find_all('tr', {'onmouseover':'mouseOver(this)'})\n",
    "    \n",
    "    for i in range(len(final_obj)):\n",
    "        title = final_obj[i].find_all('td')[1].text\n",
    "        total_sales = final_obj[i].find_all('td')[6].text.replace(\",\",\"\")\n",
    "        total_asset = final_obj[i].find_all('td')[7].text.replace(\",\",\"\")\n",
    "        total_debt = final_obj[i].find_all('td')[8].text.replace(\",\",\"\")\n",
    "        sales_profit = final_obj[i].find_all('td')[9].text.replace(\",\",\"\")\n",
    "        sales_increase = final_obj[i].find_all('td')[10].text.replace(\",\",\"\")\n",
    "        sales_profit_increase = final_obj[i].find_all('td')[11].text.replace(\",\",\"\")\n",
    "\n",
    "        list_append(title, title_list)\n",
    "        list_append(total_sales, total_sales_list)\n",
    "        list_append(total_asset, total_asset_list)\n",
    "        list_append(total_debt, total_debt_list)\n",
    "        list_append(sales_profit, sales_profit_list)\n",
    "        list_append(sales_increase, sales_increase_list)\n",
    "        list_append(sales_profit_increase, sales_profit_increase_list)"
   ]
  },
  {
   "cell_type": "code",
   "execution_count": null,
   "metadata": {},
   "outputs": [],
   "source": [
    "df2 = pd.DataFrame(list(zip(title_list,\n",
    "                           total_sales_list, \n",
    "                           total_asset_list,\n",
    "                           total_debt_list,\n",
    "                           sales_profit_list,\n",
    "                           sales_increase_list,\n",
    "                           sales_profit_increase_list)),\n",
    "                  columns=['종목명',\n",
    "                           '매출액', \n",
    "                           '자산총계', \n",
    "                           '부채총계', \n",
    "                           '영업이익', \n",
    "                           '매출액증가율', \n",
    "                           '영업이익증가율'])"
   ]
  },
  {
   "cell_type": "code",
   "execution_count": null,
   "metadata": {},
   "outputs": [],
   "source": [
    "df2 = df2[df2['영업이익'] != 'Null']"
   ]
  },
  {
   "cell_type": "code",
   "execution_count": null,
   "metadata": {},
   "outputs": [],
   "source": [
    "# 매출액 해제\n",
    "browser.find_element_by_xpath('/html/body/div[3]/div[1]/div[2]/div[1]/div[2]/form/div/div/table/tbody/tr[4]/td[4]/input').click()\n",
    "# 자산총계 해제\n",
    "browser.find_element_by_xpath('/html/body/div[3]/div[1]/div[2]/div[1]/div[2]/form/div/div/table/tbody/tr[2]/td[4]/input').click()\n",
    "# 부채총계 해제\n",
    "browser.find_element_by_xpath('/html/body/div[3]/div[1]/div[2]/div[1]/div[2]/form/div/div/table/tbody/tr[3]/td[4]/input').click()\n",
    "# 영업이익 해제\n",
    "browser.find_element_by_xpath('/html/body/div[3]/div[1]/div[2]/div[1]/div[2]/form/div/div/table/tbody/tr[1]/td[5]/input').click()\n",
    "# 메출액 해제\n",
    "browser.find_element_by_xpath('/html/body/div[3]/div[1]/div[2]/div[1]/div[2]/form/div/div/table/tbody/tr[5]/td[4]/input').click()\n",
    "# 영업이익증가율 해제\n",
    "browser.find_element_by_xpath('/html/body/div[3]/div[1]/div[2]/div[1]/div[2]/form/div/div/table/tbody/tr[2]/td[5]/input').click()\n",
    "\n",
    "\n",
    "\n",
    "# 당기순이익 클릭\n",
    "browser.find_element_by_xpath('/html/body/div[3]/div[1]/div[2]/div[1]/div[2]/form/div/div/table/tbody/tr[3]/td[5]/input').click()\n",
    "# 주당순이익 클릭\n",
    "browser.find_element_by_xpath('/html/body/div[3]/div[1]/div[2]/div[1]/div[2]/form/div/div/table/tbody/tr[4]/td[5]/input').click()\n",
    "# 보통주배당금 클릭\n",
    "browser.find_element_by_xpath('/html/body/div[3]/div[1]/div[2]/div[1]/div[2]/form/div/div/table/tbody/tr[5]/td[5]/input').click()\n",
    "# ROA 클릭\n",
    "browser.find_element_by_xpath('/html/body/div[3]/div[1]/div[2]/div[1]/div[2]/form/div/div/table/tbody/tr[3]/td[6]/input').click()\n",
    "# PBR 클릭\n",
    "browser.find_element_by_xpath('/html/body/div[3]/div[1]/div[2]/div[1]/div[2]/form/div/div/table/tbody/tr[4]/td[6]/input').click()\n",
    "# 유보율 클릭\n",
    "browser.find_element_by_xpath('/html/body/div[3]/div[1]/div[2]/div[1]/div[2]/form/div/div/table/tbody/tr[5]/td[6]/input').click()\n",
    "\n",
    "\n",
    "# 적용하기 클릭\n",
    "browser.find_element_by_xpath('/html/body/div[3]/div[1]/div[2]/div[1]/div[2]/form/div/div/div/a[1]/img').click()"
   ]
  },
  {
   "cell_type": "code",
   "execution_count": null,
   "metadata": {},
   "outputs": [],
   "source": [
    "for i in range(30):\n",
    "    url = \"https://finance.naver.com/sise/sise_market_sum.nhn?&page={}\".format(i+1)\n",
    "    browser.get(url)\n",
    "    req = browser.page_source\n",
    "    obj = BeautifulSoup(req, \"html.parser\")\n",
    "    \n",
    "    temp_obj = obj.find('div', {'class':'box_type_l'})\n",
    "    temp_obj = temp_obj.find('tbody')\n",
    "    final_obj = temp_obj.find_all('tr', {'onmouseover':'mouseOver(this)'})\n",
    "    \n",
    "    for i in range(len(final_obj)):\n",
    "        title = final_obj[i].find_all('td')[1].text\n",
    "        net_income = final_obj[i].find_all('td')[6].text.replace(\",\",\"\")\n",
    "        eps = final_obj[i].find_all('td')[7].text.replace(\",\",\"\")\n",
    "        dividends = final_obj[i].find_all('td')[8].text.replace(\",\",\"\")\n",
    "        roa = final_obj[i].find_all('td')[9].text.replace(\",\",\"\")\n",
    "        pbr = final_obj[i].find_all('td')[10].text.replace(\",\",\"\")\n",
    "        reserve_rate = final_obj[i].find_all('td')[11].text.replace(\",\",\"\")\n",
    "\n",
    "        list_append(title, title_list)\n",
    "        list_append(net_income, net_income_list)\n",
    "        list_append(eps, eps_list)\n",
    "        list_append(dividends, dividends_list)\n",
    "        list_append(roa, roa_list)\n",
    "        list_append(pbr, pbr_list)\n",
    "        list_append(reserve_rate, reserve_rate_list)"
   ]
  },
  {
   "cell_type": "code",
   "execution_count": null,
   "metadata": {},
   "outputs": [],
   "source": [
    "df3 = pd.DataFrame(list(zip(title_list,\n",
    "                           total_sales_list, \n",
    "                           total_asset_list,\n",
    "                           total_debt_list,\n",
    "                           sales_profit_list,\n",
    "                           sales_increase_list,\n",
    "                           sales_profit_increase_list)),\n",
    "                  columns=['종목명',\n",
    "                           '당기순이익',\n",
    "                           '주당순이익', \n",
    "                           '보통부배당금', \n",
    "                           'ROA', \n",
    "                           'PBR', \n",
    "                           '유보율'])"
   ]
  },
  {
   "cell_type": "code",
   "execution_count": null,
   "metadata": {},
   "outputs": [],
   "source": [
    "df1 = df1[df1['ROE'] != 'Null']\n",
    "\n",
    "df3 = df3[df3['PBR'] != 'Null']"
   ]
  },
  {
   "cell_type": "code",
   "execution_count": null,
   "metadata": {},
   "outputs": [],
   "source": [
    "result = pd.merge(df1, df2, on='종목명')\n",
    "result = pd.merge(result, df3, on='종목명')"
   ]
  },
  {
   "cell_type": "code",
   "execution_count": null,
   "metadata": {},
   "outputs": [],
   "source": [
    "column_type = {'액면가' : 'int',\n",
    "               '시가총액' : 'int',\n",
    "               '상장주식수' : 'int', \n",
    "               '외국인비율' : 'float',\n",
    "               '거래량' : 'int', \n",
    "               'PER' : 'float',\n",
    "               'ROE' : 'float',\n",
    "               '매출액' : 'int', \n",
    "               '자산총계' : 'int',\n",
    "               '부채총계' : 'int',\n",
    "               '영업이익' : 'int',\n",
    "               '매출액증가율' : 'float',\n",
    "               '영업이익증가율' : 'float', \n",
    "               '당기순이익' : 'int',\n",
    "               '주당순이익' : 'int',\n",
    "               '보통부배당금' : 'int', \n",
    "               'ROA': 'float',\n",
    "               'PBR': 'float', \n",
    "               '유보율': 'float'}"
   ]
  },
  {
   "cell_type": "code",
   "execution_count": null,
   "metadata": {},
   "outputs": [],
   "source": [
    "result = result.astype(column_type)\n",
    "result = result[result['PBR']>0].sort_values(by='PBR')"
   ]
  },
  {
   "cell_type": "code",
   "execution_count": null,
   "metadata": {},
   "outputs": [],
   "source": []
  },
  {
   "cell_type": "code",
   "execution_count": null,
   "metadata": {},
   "outputs": [],
   "source": [
    "result['pbr_rank'] = result['PBR'].rank(method='max')"
   ]
  }
 ],
 "metadata": {
  "kernelspec": {
   "display_name": "Python 3",
   "language": "python",
   "name": "python3"
  },
  "language_info": {
   "codemirror_mode": {
    "name": "ipython",
    "version": 3
   },
   "file_extension": ".py",
   "mimetype": "text/x-python",
   "name": "python",
   "nbconvert_exporter": "python",
   "pygments_lexer": "ipython3",
   "version": "3.6.4"
  }
 },
 "nbformat": 4,
 "nbformat_minor": 2
}
