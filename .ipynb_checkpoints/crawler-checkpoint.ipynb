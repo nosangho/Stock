{
 "cells": [
  {
   "cell_type": "code",
   "execution_count": 1,
   "metadata": {
    "pycharm": {
     "is_executing": false
    }
   },
   "outputs": [],
   "source": [
    "import requests\n",
    "from bs4 import BeautifulSoup"
   ]
  },
  {
   "cell_type": "code",
   "execution_count": 2,
   "metadata": {},
   "outputs": [],
   "source": [
    "url = \"https://finance.naver.com/sise/sise_market_sum.nhn?&page=1\"\n",
    "res = requests.get(url)\n",
    "obj = BeautifulSoup(res.content, \"html.parser\")"
   ]
  },
  {
   "cell_type": "code",
   "execution_count": 3,
   "metadata": {},
   "outputs": [],
   "source": [
    "temp_obj = obj.find('div', {'class':'box_type_l'})\n",
    "temp_obj = temp_obj.find('tbody')"
   ]
  },
  {
   "cell_type": "code",
   "execution_count": 4,
   "metadata": {},
   "outputs": [],
   "source": [
    "final_obj = temp_obj.find_all('tr', {'onmouseover':'mouseOver(this)'})"
   ]
  },
  {
   "cell_type": "code",
   "execution_count": 39,
   "metadata": {},
   "outputs": [],
   "source": [
    "stock = {}\n",
    "title_list = []\n",
    "start_price_list = []\n",
    "total_price_list = []\n",
    "total_stocks_list = []\n",
    "foreign_rate_list = []\n",
    "volume_list = []\n",
    "per_list = []\n",
    "pbr_list = []"
   ]
  },
  {
   "cell_type": "code",
   "execution_count": 40,
   "metadata": {},
   "outputs": [],
   "source": [
    "def list_append(value, list_name):\n",
    "    if value != \"N/A\":\n",
    "        list_name.append(value)\n",
    "    else: \n",
    "        list_name.append('Null')"
   ]
  },
  {
   "cell_type": "code",
   "execution_count": 41,
   "metadata": {},
   "outputs": [],
   "source": [
    "for i in range(len(final_obj)):\n",
    "    title = final_obj[i].find_all('td')[1].text\n",
    "    start_price = final_obj[i].find_all('td')[5].text.replace(\",\",\"\")\n",
    "    total_price = final_obj[i].find_all('td')[6].text.replace(\",\",\"\")\n",
    "    total_stocks = final_obj[i].find_all('td')[7].text.replace(\",\",\"\")\n",
    "    foreign_rate = final_obj[i].find_all('td')[8].text\n",
    "    volume = final_obj[i].find_all('td')[9].text.replace(\",\",\"\")\n",
    "    per = final_obj[i].find_all('td')[10].text\n",
    "    pbr = final_obj[i].find_all('td')[11].text\n",
    "    \n",
    "    list_append(title, title_list)\n",
    "    list_append(start_price, start_price_list)\n",
    "    list_append(total_price, total_price_list)\n",
    "    list_append(total_stocks, total_stocks_list)\n",
    "    list_append(foreign_rate, foreign_rate_list)\n",
    "    list_append(volume, volume_list)\n",
    "    list_append(per, per_list)\n",
    "    list_append(pbr, pbr_list)"
   ]
  },
  {
   "cell_type": "code",
   "execution_count": null,
   "metadata": {},
   "outputs": [],
   "source": []
  }
 ],
 "metadata": {
  "kernelspec": {
   "display_name": "Python 3",
   "language": "python",
   "name": "python3"
  },
  "language_info": {
   "codemirror_mode": {
    "name": "ipython",
    "version": 3
   },
   "file_extension": ".py",
   "mimetype": "text/x-python",
   "name": "python",
   "nbconvert_exporter": "python",
   "pygments_lexer": "ipython3",
   "version": "3.6.4"
  }
 },
 "nbformat": 4,
 "nbformat_minor": 4
}
