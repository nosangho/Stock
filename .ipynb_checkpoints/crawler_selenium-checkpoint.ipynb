{
 "cells": [
  {
   "cell_type": "code",
   "execution_count": 1,
   "metadata": {},
   "outputs": [],
   "source": [
    "import time\n",
    "\n",
    "from selenium import webdriver\n",
    "from selenium.webdriver.chrome.options import Options\n",
    "from selenium.webdriver.support.wait import WebDriverWait"
   ]
  },
  {
   "cell_type": "code",
   "execution_count": 2,
   "metadata": {},
   "outputs": [],
   "source": [
    "#options.headless = True\n",
    "browser = webdriver.Chrome(executable_path='./chromedriver')\n",
    "browser.get('https://finance.naver.com/sise/sise_market_sum.nhn?&page=1')"
   ]
  },
  {
   "cell_type": "code",
   "execution_count": 8,
   "metadata": {},
   "outputs": [],
   "source": [
    "# 거래량 해제\n",
    "browser.find_element_by_xpath('/html/body/div[3]/div[1]/div[2]/div[1]/div[2]/form/div/div/table/tbody/tr[1]/td[1]/input').click()\n",
    "# 외국인 비율 해제\n",
    "browser.find_element_by_xpath('/html/body/div[3]/div[1]/div[2]/div[1]/div[2]/form/div/div/table/tbody/tr[3]/td[3]/input').click()\n",
    "# 상장주식수 해제\n",
    "browser.find_element_by_xpath('/html/body/div[3]/div[1]/div[2]/div[1]/div[2]/form/div/div/table/tbody/tr[4]/td[3]/input').click()\n",
    "# 시가총액 해제\n",
    "browser.find_element_by_xpath('/html/body/div[3]/div[1]/div[2]/div[1]/div[2]/form/div/div/table/tbody/tr[1]/td[4]/input').click()\n",
    "# PER 해제\n",
    "browser.find_element_by_xpath('/html/body/div[3]/div[1]/div[2]/div[1]/div[2]/form/div/div/table/tbody/tr[1]/td[6]/input').click()\n",
    "# ROE 해제\n",
    "browser.find_element_by_xpath('/html/body/div[3]/div[1]/div[2]/div[1]/div[2]/form/div/div/table/tbody/tr[2]/td[6]/input').click()\n",
    "\n",
    "# 매출액 클릭\n",
    "browser.find_element_by_xpath('/html/body/div[3]/div[1]/div[2]/div[1]/div[2]/form/div/div/table/tbody/tr[4]/td[4]/input').click()\n",
    "# 자산총계 클릭\n",
    "browser.find_element_by_xpath('/html/body/div[3]/div[1]/div[2]/div[1]/div[2]/form/div/div/table/tbody/tr[2]/td[4]/input').click()\n",
    "# 부채총계 클릭\n",
    "browser.find_element_by_xpath('/html/body/div[3]/div[1]/div[2]/div[1]/div[2]/form/div/div/table/tbody/tr[3]/td[4]/input').click()\n",
    "# 영업이익 클릭\n",
    "browser.find_element_by_xpath('/html/body/div[3]/div[1]/div[2]/div[1]/div[2]/form/div/div/table/tbody/tr[1]/td[5]/input').click()\n",
    "# 메출액 증가율 클릭\n",
    "browser.find_element_by_xpath('/html/body/div[3]/div[1]/div[2]/div[1]/div[2]/form/div/div/table/tbody/tr[5]/td[4]/input').click()\n",
    "# 영업이익증가율 클릭\n",
    "browser.find_element_by_xpath('/html/body/div[3]/div[1]/div[2]/div[1]/div[2]/form/div/div/table/tbody/tr[2]/td[5]/input').click()\n",
    "\n",
    "# 적용하기 클릭\n",
    "browser.find_element_by_xpath('/html/body/div[3]/div[1]/div[2]/div[1]/div[2]/form/div/div/div/a[1]/img').click()\n",
    "\n",
    "# 매출액 해제\n",
    "browser.find_element_by_xpath('/html/body/div[3]/div[1]/div[2]/div[1]/div[2]/form/div/div/table/tbody/tr[4]/td[4]/input').click()\n",
    "# 자산총계 해제\n",
    "browser.find_element_by_xpath('/html/body/div[3]/div[1]/div[2]/div[1]/div[2]/form/div/div/table/tbody/tr[2]/td[4]/input').click()\n",
    "# 부채총계 해제\n",
    "browser.find_element_by_xpath('/html/body/div[3]/div[1]/div[2]/div[1]/div[2]/form/div/div/table/tbody/tr[3]/td[4]/input').click()\n",
    "# 영업이익 해제\n",
    "browser.find_element_by_xpath('/html/body/div[3]/div[1]/div[2]/div[1]/div[2]/form/div/div/table/tbody/tr[1]/td[5]/input').click()\n",
    "# 메출액 해제\n",
    "browser.find_element_by_xpath('/html/body/div[3]/div[1]/div[2]/div[1]/div[2]/form/div/div/table/tbody/tr[5]/td[4]/input').click()\n",
    "# 영업이익증가율 해제\n",
    "browser.find_element_by_xpath('/html/body/div[3]/div[1]/div[2]/div[1]/div[2]/form/div/div/table/tbody/tr[2]/td[5]/input').click()\n",
    "\n",
    "\n",
    "\n",
    "# 당기순이익 클릭\n",
    "browser.find_element_by_xpath('/html/body/div[3]/div[1]/div[2]/div[1]/div[2]/form/div/div/table/tbody/tr[3]/td[5]/input').click()\n",
    "# 주당순이익 클릭\n",
    "browser.find_element_by_xpath('/html/body/div[3]/div[1]/div[2]/div[1]/div[2]/form/div/div/table/tbody/tr[4]/td[5]/input').click()\n",
    "# 보통주배당금 클릭\n",
    "browser.find_element_by_xpath('/html/body/div[3]/div[1]/div[2]/div[1]/div[2]/form/div/div/table/tbody/tr[5]/td[5]/input').click()\n",
    "# ROA 클릭\n",
    "browser.find_element_by_xpath('/html/body/div[3]/div[1]/div[2]/div[1]/div[2]/form/div/div/table/tbody/tr[3]/td[6]/input').click()\n",
    "# PBR 클릭\n",
    "browser.find_element_by_xpath('/html/body/div[3]/div[1]/div[2]/div[1]/div[2]/form/div/div/table/tbody/tr[4]/td[6]/input').click()\n",
    "# 유보율 클릭\n",
    "browser.find_element_by_xpath('/html/body/div[3]/div[1]/div[2]/div[1]/div[2]/form/div/div/table/tbody/tr[5]/td[6]/input').click()\n",
    "\n",
    "\n",
    "# 적용하기 클릭\n",
    "browser.find_element_by_xpath('/html/body/div[3]/div[1]/div[2]/div[1]/div[2]/form/div/div/div/a[1]/img').click()"
   ]
  },
  {
   "cell_type": "code",
   "execution_count": 5,
   "metadata": {},
   "outputs": [],
   "source": [
    "browser.find_element_by_xpath('/html/body/div[3]/div[1]/div[2]/div[1]/div[2]/form/div/div/table/tbody/tr[2]/td[6]/input').click()\n",
    "browser.find_element_by_xpath('/html/body/div[3]/div[1]/div[2]/div[1]/div[2]/form/div/div/table/tbody/tr[4]/td[6]/input').click()\n",
    "browser.find_element_by_xpath('/html/body/div[3]/div[1]/div[2]/div[1]/div[2]/form/div/div/div/a[1]/img').click()"
   ]
  },
  {
   "cell_type": "code",
   "execution_count": null,
   "metadata": {},
   "outputs": [],
   "source": [
    "\"\"\"\n",
    "초기항목\n",
    "\n",
    "시가총액\n",
    "상장주식수\n",
    "외국인비율\n",
    "거래량\n",
    "PER\n",
    "ROE\n",
    "\n",
    "매출액\n",
    "자산총계\n",
    "부채총계\n",
    "영업이익\n",
    "매출액증가율\n",
    "영업이익증가율\n",
    "\n",
    "당기순이익\n",
    "주당순이익\n",
    "보통주배당금\n",
    "ROA\n",
    "PBR\n",
    "유보율\n",
    "\n",
    "\n",
    "\"\"\""
   ]
  },
  {
   "cell_type": "code",
   "execution_count": 61,
   "metadata": {},
   "outputs": [],
   "source": [
    "content = browser.find_element_by_tag_name('table.item_list')"
   ]
  },
  {
   "cell_type": "code",
   "execution_count": 62,
   "metadata": {},
   "outputs": [],
   "source": [
    "td_list = content.find_elements_by_tag_name('td')"
   ]
  },
  {
   "cell_type": "code",
   "execution_count": 64,
   "metadata": {},
   "outputs": [
    {
     "data": {
      "text/plain": [
       "<selenium.webdriver.remote.webelement.WebElement (session=\"3437f0b1ac510d729288fcf315170b19\", element=\"fd51f544-874e-435b-81f8-96f9e061093e\")>"
      ]
     },
     "execution_count": 64,
     "metadata": {},
     "output_type": "execute_result"
    }
   ],
   "source": [
    "td_list[0].find_element_by_tag_name('input')"
   ]
  },
  {
   "cell_type": "code",
   "execution_count": 56,
   "metadata": {},
   "outputs": [
    {
     "data": {
      "text/plain": [
       "[]"
      ]
     },
     "execution_count": 56,
     "metadata": {},
     "output_type": "execute_result"
    }
   ],
   "source": [
    "td_list[0].find_elements_by_tag_name('id')"
   ]
  },
  {
   "cell_type": "code",
   "execution_count": 52,
   "metadata": {},
   "outputs": [
    {
     "name": "stdout",
     "output_type": "stream",
     "text": [
      "\n",
      "\n",
      "\n",
      "\n",
      "\n",
      "\n",
      "\n",
      "\n",
      "\n",
      "\n",
      "\n",
      "\n",
      "\n",
      "\n",
      "\n",
      "\n",
      "\n",
      "\n",
      "\n",
      "\n",
      "\n",
      "\n",
      "\n",
      "\n",
      "\n",
      "\n",
      "\n",
      "\n",
      "\n",
      "\n"
     ]
    }
   ],
   "source": [
    "for td in td_list:\n",
    "    print(td.get_attribute('id'))\n",
    "    "
   ]
  },
  {
   "cell_type": "code",
   "execution_count": null,
   "metadata": {},
   "outputs": [],
   "source": []
  }
 ],
 "metadata": {
  "kernelspec": {
   "display_name": "Python 3",
   "language": "python",
   "name": "python3"
  },
  "language_info": {
   "codemirror_mode": {
    "name": "ipython",
    "version": 3
   },
   "file_extension": ".py",
   "mimetype": "text/x-python",
   "name": "python",
   "nbconvert_exporter": "python",
   "pygments_lexer": "ipython3",
   "version": "3.6.4"
  }
 },
 "nbformat": 4,
 "nbformat_minor": 2
}
