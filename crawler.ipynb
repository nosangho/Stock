{
 "cells": [
  {
   "cell_type": "code",
   "execution_count": 1,
   "metadata": {
    "pycharm": {
     "is_executing": false
    }
   },
   "outputs": [],
   "source": [
    "import requests\n",
    "from bs4 import BeautifulSoup"
   ]
  },
  {
   "cell_type": "code",
   "execution_count": 2,
   "metadata": {},
   "outputs": [],
   "source": [
    "url = \"https://finance.naver.com/sise/sise_market_sum.nhn?&page=1\"\n",
    "res = requests.get(url)\n",
    "obj = BeautifulSoup(res.content, \"html.parser\")"
   ]
  },
  {
   "cell_type": "code",
   "execution_count": 10,
   "metadata": {},
   "outputs": [],
   "source": [
    "temp_obj = obj.find('div', {'class':'box_type_l'})\n",
    "temp_obj = temp_obj.find('tbody')"
   ]
  },
  {
   "cell_type": "code",
   "execution_count": 11,
   "metadata": {},
   "outputs": [],
   "source": [
    "final_obj = temp_obj.find_all('tr', {'onmouseover':'mouseOver(this)'})"
   ]
  },
  {
   "cell_type": "code",
   "execution_count": 80,
   "metadata": {},
   "outputs": [],
   "source": [
    "stock = {}\n",
    "title_list = []\n",
    "start_price_list = []\n",
    "total_price_list = []\n",
    "total_stocks_list = []\n",
    "foreign_rate_list = []\n",
    "volume_list = []\n",
    "per_list = []\n",
    "pbr_list = []"
   ]
  },
  {
   "cell_type": "code",
   "execution_count": 82,
   "metadata": {},
   "outputs": [
    {
     "ename": "ValueError",
     "evalue": "could not convert string to float: 'N/A'",
     "output_type": "error",
     "traceback": [
      "\u001b[0;31m---------------------------------------------------------------------------\u001b[0m",
      "\u001b[0;31mValueError\u001b[0m                                Traceback (most recent call last)",
      "\u001b[0;32m<ipython-input-82-47ddac23d103>\u001b[0m in \u001b[0;36m<module>\u001b[0;34m()\u001b[0m\n\u001b[1;32m     36\u001b[0m         \u001b[0mvolume_list\u001b[0m\u001b[0;34m.\u001b[0m\u001b[0mappend\u001b[0m\u001b[0;34m(\u001b[0m\u001b[0;36m0\u001b[0m\u001b[0;34m)\u001b[0m\u001b[0;34m\u001b[0m\u001b[0m\n\u001b[1;32m     37\u001b[0m \u001b[0;34m\u001b[0m\u001b[0m\n\u001b[0;32m---> 38\u001b[0;31m     \u001b[0mper\u001b[0m \u001b[0;34m=\u001b[0m \u001b[0mfloat\u001b[0m\u001b[0;34m(\u001b[0m\u001b[0mfinal_obj\u001b[0m\u001b[0;34m[\u001b[0m\u001b[0mi\u001b[0m\u001b[0;34m]\u001b[0m\u001b[0;34m.\u001b[0m\u001b[0mfind_all\u001b[0m\u001b[0;34m(\u001b[0m\u001b[0;34m'td'\u001b[0m\u001b[0;34m)\u001b[0m\u001b[0;34m[\u001b[0m\u001b[0;36m10\u001b[0m\u001b[0;34m]\u001b[0m\u001b[0;34m.\u001b[0m\u001b[0mtext\u001b[0m\u001b[0;34m)\u001b[0m\u001b[0;34m\u001b[0m\u001b[0m\n\u001b[0m\u001b[1;32m     39\u001b[0m     \u001b[0;32mif\u001b[0m \u001b[0mtype\u001b[0m\u001b[0;34m(\u001b[0m\u001b[0mper\u001b[0m\u001b[0;34m)\u001b[0m \u001b[0;34m==\u001b[0m \u001b[0mfloat\u001b[0m\u001b[0;34m:\u001b[0m\u001b[0;34m\u001b[0m\u001b[0m\n\u001b[1;32m     40\u001b[0m         \u001b[0mper_list\u001b[0m\u001b[0;34m.\u001b[0m\u001b[0mappend\u001b[0m\u001b[0;34m(\u001b[0m\u001b[0mper\u001b[0m\u001b[0;34m)\u001b[0m\u001b[0;34m\u001b[0m\u001b[0m\n",
      "\u001b[0;31mValueError\u001b[0m: could not convert string to float: 'N/A'"
     ]
    }
   ],
   "source": [
    "for i in range(len(final_obj)):\n",
    "    title = final_obj[i].find_all('td')[1].text\n",
    "    if type(title) == str:\n",
    "        title_list.append(title)\n",
    "    else:\n",
    "        title_list.append('Null')\n",
    "    \n",
    "    start_price = int(final_obj[i].find_all('td')[5].text.replace(\",\",\"\"))\n",
    "    if type(start_price) == int:\n",
    "        start_price_list.append(start_price)\n",
    "    else:\n",
    "        start_price_list.append(0)\n",
    "        \n",
    "    total_price = int(final_obj[i].find_all('td')[6].text.replace(\",\",\"\"))\n",
    "    if type(total_price) == int:\n",
    "        total_price_list.append(total_price)\n",
    "    else:\n",
    "        total_price_list.append(0)\n",
    "        \n",
    "    total_stocks = int(final_obj[i].find_all('td')[7].text.replace(\",\",\"\"))\n",
    "    if type(total_stocks) == int:\n",
    "        total_stocks_list.append(total_stocks)\n",
    "    else:\n",
    "        total_stocks_list.append(0)\n",
    "        \n",
    "    foreign_rate = float(final_obj[i].find_all('td')[8].text)\n",
    "    if type(foreign_rate) == int:\n",
    "        foreign_rate_list.append(foreign_rate)\n",
    "    else:\n",
    "        foreign_rate_list.append(0)\n",
    "    \n",
    "    volume = int(final_obj[i].find_all('td')[9].text.replace(\",\",\"\"))\n",
    "    if type(volume) == int:\n",
    "        volume_list.append(volume)\n",
    "    else:\n",
    "        volume_list.append(0)\n",
    "        \n",
    "    per = float(final_obj[i].find_all('td')[10].text)\n",
    "    if type(per) == float:\n",
    "        per_list.append(per)\n",
    "    else:\n",
    "        per_list.append(0)\n",
    "    \n",
    "    pbr = float(final_obj[i].find_all('td')[11].text)\n",
    "    if type(pbr) == float:\n",
    "        pbr_list.append(pbr)\n",
    "    else:\n",
    "        pbr_list.append(0)"
   ]
  },
  {
   "cell_type": "code",
   "execution_count": null,
   "metadata": {},
   "outputs": [],
   "source": []
  }
 ],
 "metadata": {
  "kernelspec": {
   "display_name": "Python 3",
   "language": "python",
   "name": "python3"
  },
  "language_info": {
   "codemirror_mode": {
    "name": "ipython",
    "version": 3
   },
   "file_extension": ".py",
   "mimetype": "text/x-python",
   "name": "python",
   "nbconvert_exporter": "python",
   "pygments_lexer": "ipython3",
   "version": "3.6.4"
  }
 },
 "nbformat": 4,
 "nbformat_minor": 4
}
