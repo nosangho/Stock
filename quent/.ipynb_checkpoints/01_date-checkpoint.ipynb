{
 "cells": [
  {
   "cell_type": "markdown",
   "metadata": {},
   "source": [
    "# 시간 데이터 다루기\n",
    "\n",
    "### 시간데이터를 다루는 라이브러리 : datetime, numpy, pandas"
   ]
  },
  {
   "cell_type": "code",
   "execution_count": 7,
   "metadata": {},
   "outputs": [],
   "source": [
    "import datetime\n",
    "import numpy as np\n",
    "import pandas as pd"
   ]
  },
  {
   "cell_type": "markdown",
   "metadata": {},
   "source": [
    "## 1. 날짜와 시간"
   ]
  },
  {
   "cell_type": "markdown",
   "metadata": {},
   "source": [
    "### 1-1. 파이썬 라이브러리 (datetime)\n",
    "#### 주요 클래스 : time, date, datetime, timedelta"
   ]
  },
  {
   "cell_type": "code",
   "execution_count": 4,
   "metadata": {},
   "outputs": [
    {
     "data": {
      "text/plain": [
       "datetime.timedelta(0)"
      ]
     },
     "execution_count": 4,
     "metadata": {},
     "output_type": "execute_result"
    }
   ],
   "source": [
    "# time : 시간기능\n",
    "datetime.time(hour=4, minute=3, second=10)\n",
    "# date : 날짜기능\n",
    "datetime.date(year=2020, month=12, day=10)\n",
    "# datetime : 날짜와 시간기능\n",
    "datetime.datetime(year=2020, month=12, day=10, hour=1)\n",
    "# timedelta : datetime 인스턴스 간의 차이\n",
    "datetime.timedelta()"
   ]
  },
  {
   "cell_type": "markdown",
   "metadata": {},
   "source": [
    "#### 날짜 변환"
   ]
  },
  {
   "cell_type": "markdown",
   "metadata": {},
   "source": [
    "- 날짜 타입변환\\\n",
    "str -> datetime : strptime"
   ]
  },
  {
   "cell_type": "code",
   "execution_count": 9,
   "metadata": {},
   "outputs": [
    {
     "name": "stdout",
     "output_type": "stream",
     "text": [
      "<class 'datetime.datetime'>\n",
      "2018-04-05 12:23:45\n"
     ]
    }
   ],
   "source": [
    "datetime_str = \"2018-04-05 12:23:45\"\n",
    "\n",
    "format1 = \"%Y-%m-%d %H:%M:%S\"\n",
    "format2 = \"%Y/%m/%d %H-%M-%S\"\n",
    "\n",
    "datetime_dt = datetime.datetime.strptime(datetime_str, format1)\n",
    "print(type(datetime_dt))\n",
    "print(datetime_dt)"
   ]
  },
  {
   "cell_type": "markdown",
   "metadata": {},
   "source": [
    "- datetime -> str : strftime"
   ]
  },
  {
   "cell_type": "code",
   "execution_count": 10,
   "metadata": {},
   "outputs": [
    {
     "name": "stdout",
     "output_type": "stream",
     "text": [
      "<class 'str'>\n",
      "2018/04/05 12-23-45\n"
     ]
    }
   ],
   "source": [
    "datetime_str = datetime_dt.strftime(format2)\n",
    "print(type(datetime_str))\n",
    "print(datetime_str)"
   ]
  },
  {
   "cell_type": "markdown",
   "metadata": {},
   "source": [
    "### 1-2. numpy"
   ]
  },
  {
   "cell_type": "markdown",
   "metadata": {},
   "source": [
    "- numpy 날씨 객체"
   ]
  },
  {
   "cell_type": "code",
   "execution_count": 8,
   "metadata": {},
   "outputs": [
    {
     "data": {
      "text/plain": [
       "numpy.datetime64('2020-02-04')"
      ]
     },
     "execution_count": 8,
     "metadata": {},
     "output_type": "execute_result"
    }
   ],
   "source": [
    "import numpy as np\n",
    "np.datetime64('2020-02-04')"
   ]
  },
  {
   "cell_type": "markdown",
   "metadata": {},
   "source": [
    "- array() 함수를 이용한 날짜 생성"
   ]
  },
  {
   "cell_type": "code",
   "execution_count": 11,
   "metadata": {},
   "outputs": [
    {
     "data": {
      "text/plain": [
       "array(['2017-09-09', '2018-08-08', '2019-09-01'], dtype='datetime64[D]')"
      ]
     },
     "execution_count": 11,
     "metadata": {},
     "output_type": "execute_result"
    }
   ],
   "source": [
    "np.array(['2017-09-09', '2018-08-08', '2019-09-01'], dtype='datetime64')"
   ]
  },
  {
   "cell_type": "markdown",
   "metadata": {},
   "source": [
    "- arange() 함수를 이용해 범위 날짜"
   ]
  },
  {
   "cell_type": "code",
   "execution_count": 15,
   "metadata": {},
   "outputs": [
    {
     "data": {
      "text/plain": [
       "array(['2019-01', '2019-02', '2019-03', '2019-04', '2019-05', '2019-06',\n",
       "       '2019-07', '2019-08', '2019-09', '2019-10', '2019-11', '2019-12',\n",
       "       '2020-01'], dtype='datetime64[M]')"
      ]
     },
     "execution_count": 15,
     "metadata": {},
     "output_type": "execute_result"
    }
   ],
   "source": [
    "np.arange('2019-01', '2019-02', dtype='datetime64[D]')\n",
    "np.arange('2019-01', '2020-02', dtype='datetime64[M]')"
   ]
  },
  {
   "cell_type": "markdown",
   "metadata": {},
   "source": [
    "### 1-3. pandas"
   ]
  },
  {
   "cell_type": "markdown",
   "metadata": {},
   "source": [
    "- pandas 날씨 객체  \n",
    " + datetimes -> datestamp : to_datetime, date_range  \n",
    " * timedelta -> 동일 : : to_timedelta, timedelta_range  \n",
    " + timespans -> Period : Period, period_range"
   ]
  },
  {
   "cell_type": "code",
   "execution_count": 17,
   "metadata": {},
   "outputs": [
    {
     "data": {
      "text/plain": [
       "DatetimeIndex(['2020-01-01', '2020-01-02', '2020-01-03', '2020-01-04',\n",
       "               '2020-01-05', '2020-01-06', '2020-01-07', '2020-01-08',\n",
       "               '2020-01-09', '2020-01-10', '2020-01-11', '2020-01-12',\n",
       "               '2020-01-13', '2020-01-14', '2020-01-15', '2020-01-16',\n",
       "               '2020-01-17', '2020-01-18', '2020-01-19', '2020-01-20',\n",
       "               '2020-01-21', '2020-01-22', '2020-01-23', '2020-01-24',\n",
       "               '2020-01-25', '2020-01-26', '2020-01-27', '2020-01-28',\n",
       "               '2020-01-29', '2020-01-30', '2020-01-31', '2020-02-01'],\n",
       "              dtype='datetime64[ns]', freq='D')"
      ]
     },
     "execution_count": 17,
     "metadata": {},
     "output_type": "execute_result"
    }
   ],
   "source": [
    "pd.Timestamp('2020-02-03')\n",
    "pd.to_datetime('2012-12-04 12')\n",
    "pd.to_datetime(['2018-01-01', '2019-02-03'])\n",
    "pd.date_range('2020-01', '2020-02')"
   ]
  },
  {
   "cell_type": "code",
   "execution_count": 20,
   "metadata": {},
   "outputs": [
    {
     "data": {
      "text/plain": [
       "PeriodIndex(['2019-02-01', '2019-02-02', '2019-02-03', '2019-02-04',\n",
       "             '2019-02-05', '2019-02-06', '2019-02-07', '2019-02-08',\n",
       "             '2019-02-09', '2019-02-10', '2019-02-11', '2019-02-12',\n",
       "             '2019-02-13', '2019-02-14', '2019-02-15', '2019-02-16',\n",
       "             '2019-02-17', '2019-02-18', '2019-02-19', '2019-02-20',\n",
       "             '2019-02-21', '2019-02-22', '2019-02-23', '2019-02-24',\n",
       "             '2019-02-25', '2019-02-26', '2019-02-27', '2019-02-28',\n",
       "             '2019-03-01'],\n",
       "            dtype='period[D]', freq='D')"
      ]
     },
     "execution_count": 20,
     "metadata": {},
     "output_type": "execute_result"
    }
   ],
   "source": [
    "pd.Period('2019-04')\n",
    "pd.Period('2019-05', freq='D')\n",
    "pd.period_range('2019-02', '2019-03', freq='D')"
   ]
  },
  {
   "cell_type": "markdown",
   "metadata": {},
   "source": [
    "- datestamp와 period의 차이 (period는 범위)"
   ]
  },
  {
   "cell_type": "code",
   "execution_count": 21,
   "metadata": {},
   "outputs": [
    {
     "data": {
      "text/plain": [
       "True"
      ]
     },
     "execution_count": 21,
     "metadata": {},
     "output_type": "execute_result"
    }
   ],
   "source": [
    "p = pd.Period('2019-06-01')\n",
    "test = pd.Timestamp('2019-06-01 23:11')\n",
    "p.start_time < test < p.end_time"
   ]
  },
  {
   "cell_type": "code",
   "execution_count": 24,
   "metadata": {},
   "outputs": [
    {
     "data": {
      "text/plain": [
       "DatetimeIndex(['2019-02-04', '2019-02-11', '2019-02-18', '2019-02-25'], dtype='datetime64[ns]', freq='W-MON')"
      ]
     },
     "execution_count": 24,
     "metadata": {},
     "output_type": "execute_result"
    }
   ],
   "source": [
    "pd.date_range('2019-02', '2019-03', freq='B') # B : 영업일 기준\n",
    "pd.date_range('2019-02', '2019-03', freq='W') # W : 주말\n",
    "pd.date_range('2019-02', '2019-03', freq='W-MON') # W-MON : 주(월요일)"
   ]
  }
 ],
 "metadata": {
  "kernelspec": {
   "display_name": "Python 3 (ipykernel)",
   "language": "python",
   "name": "python3"
  },
  "language_info": {
   "codemirror_mode": {
    "name": "ipython",
    "version": 3
   },
   "file_extension": ".py",
   "mimetype": "text/x-python",
   "name": "python",
   "nbconvert_exporter": "python",
   "pygments_lexer": "ipython3",
   "version": "3.9.7"
  }
 },
 "nbformat": 4,
 "nbformat_minor": 4
}
