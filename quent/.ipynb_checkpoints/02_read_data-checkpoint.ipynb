{
 "cells": [
  {
   "cell_type": "markdown",
   "metadata": {},
   "source": [
    "# 금융 데이터 전처리와 분석을 위한 판다스 사용법"
   ]
  },
  {
   "cell_type": "code",
   "execution_count": 1,
   "metadata": {},
   "outputs": [],
   "source": [
    "import pandas as pd\n",
    "import numpy as np\n",
    "\n",
    "import FinanceDataReader as fdr\n",
    "import pandas_datareader as pdr"
   ]
  },
  {
   "cell_type": "code",
   "execution_count": 2,
   "metadata": {},
   "outputs": [],
   "source": [
    "df = pdr.get_data_yahoo('AAPL')\n",
    "df.to_csv('AAPL.csv')"
   ]
  },
  {
   "cell_type": "markdown",
   "metadata": {},
   "source": [
    "## 1. 데이터 불러오기"
   ]
  },
  {
   "cell_type": "markdown",
   "metadata": {},
   "source": [
    "- read_csv options\n",
    "1. index col : 인덱스로 설정할 컬럼명 설정\n",
    "2. parse_dates : str타입의 'Date'컬럼값을 timestamp로 변환"
   ]
  },
  {
   "cell_type": "code",
   "execution_count": 3,
   "metadata": {},
   "outputs": [],
   "source": [
    "df = pd.read_csv(\"AAPL.csv\", index_col=\"Date\", parse_dates=[\"Date\"])"
   ]
  },
  {
   "cell_type": "code",
   "execution_count": 4,
   "metadata": {},
   "outputs": [
    {
     "name": "stdout",
     "output_type": "stream",
     "text": [
      "<class 'pandas._libs.tslibs.timestamps.Timestamp'>\n"
     ]
    }
   ],
   "source": [
    "print(type(df.index[0]))"
   ]
  },
  {
   "cell_type": "markdown",
   "metadata": {},
   "source": [
    "## 2. 결측치와 이상치 다루기"
   ]
  },
  {
   "cell_type": "markdown",
   "metadata": {},
   "source": [
    "- NaN 데이터를 확인하는 함수\n",
    "1. isna()\n",
    "2. isnull()\n",
    "3. isin() : 매개변수로 전달(리스트로 전달)받은 인자가 특정 컬럼에 포함되어 있는지 True/False로 확인"
   ]
  },
  {
   "cell_type": "code",
   "execution_count": 5,
   "metadata": {},
   "outputs": [
    {
     "data": {
      "text/plain": [
       "High         0\n",
       "Low          0\n",
       "Open         0\n",
       "Close        0\n",
       "Volume       0\n",
       "Adj Close    0\n",
       "dtype: int64"
      ]
     },
     "execution_count": 5,
     "metadata": {},
     "output_type": "execute_result"
    }
   ],
   "source": [
    "df.isna().sum()"
   ]
  },
  {
   "cell_type": "code",
   "execution_count": 6,
   "metadata": {},
   "outputs": [
    {
     "data": {
      "text/plain": [
       "Index(['High', 'Low', 'Open', 'Close', 'Volume', 'Adj Close'], dtype='object')"
      ]
     },
     "execution_count": 6,
     "metadata": {},
     "output_type": "execute_result"
    }
   ],
   "source": [
    "df.columns"
   ]
  },
  {
   "cell_type": "code",
   "execution_count": 7,
   "metadata": {},
   "outputs": [
    {
     "data": {
      "text/plain": [
       "0"
      ]
     },
     "execution_count": 7,
     "metadata": {},
     "output_type": "execute_result"
    }
   ],
   "source": [
    "df['High'].isna().sum()"
   ]
  },
  {
   "cell_type": "code",
   "execution_count": 8,
   "metadata": {},
   "outputs": [
    {
     "data": {
      "text/plain": [
       "High         0\n",
       "Low          0\n",
       "Open         0\n",
       "Close        0\n",
       "Volume       0\n",
       "Adj Close    0\n",
       "dtype: int64"
      ]
     },
     "execution_count": 8,
     "metadata": {},
     "output_type": "execute_result"
    }
   ],
   "source": [
    "df.isin([np.nan]).sum()"
   ]
  },
  {
   "cell_type": "code",
   "execution_count": 9,
   "metadata": {},
   "outputs": [
    {
     "data": {
      "text/plain": [
       "High         0\n",
       "Low          0\n",
       "Open         0\n",
       "Close        0\n",
       "Volume       0\n",
       "Adj Close    0\n",
       "dtype: int64"
      ]
     },
     "execution_count": 9,
     "metadata": {},
     "output_type": "execute_result"
    }
   ],
   "source": [
    "df.isnull().sum()"
   ]
  },
  {
   "cell_type": "markdown",
   "metadata": {},
   "source": [
    "- 결측치 처리\n",
    "1. fillna() : 데이터프레임의 NaN값을 다른값으로 채우는 함수 (method : pad, bfill)\n",
    "2. dropna() : 결측치 발생 제거 (axis = 0이면 row, 1이면 column 제거)"
   ]
  },
  {
   "cell_type": "code",
   "execution_count": 10,
   "metadata": {},
   "outputs": [
    {
     "data": {
      "text/html": [
       "<div>\n",
       "<style scoped>\n",
       "    .dataframe tbody tr th:only-of-type {\n",
       "        vertical-align: middle;\n",
       "    }\n",
       "\n",
       "    .dataframe tbody tr th {\n",
       "        vertical-align: top;\n",
       "    }\n",
       "\n",
       "    .dataframe thead th {\n",
       "        text-align: right;\n",
       "    }\n",
       "</style>\n",
       "<table border=\"1\" class=\"dataframe\">\n",
       "  <thead>\n",
       "    <tr style=\"text-align: right;\">\n",
       "      <th></th>\n",
       "      <th>High</th>\n",
       "      <th>Low</th>\n",
       "      <th>Open</th>\n",
       "      <th>Close</th>\n",
       "      <th>Volume</th>\n",
       "      <th>Adj Close</th>\n",
       "    </tr>\n",
       "    <tr>\n",
       "      <th>Date</th>\n",
       "      <th></th>\n",
       "      <th></th>\n",
       "      <th></th>\n",
       "      <th></th>\n",
       "      <th></th>\n",
       "      <th></th>\n",
       "    </tr>\n",
       "  </thead>\n",
       "  <tbody>\n",
       "  </tbody>\n",
       "</table>\n",
       "</div>"
      ],
      "text/plain": [
       "Empty DataFrame\n",
       "Columns: [High, Low, Open, Close, Volume, Adj Close]\n",
       "Index: []"
      ]
     },
     "execution_count": 10,
     "metadata": {},
     "output_type": "execute_result"
    }
   ],
   "source": [
    "# 결측치 데이터가 있는지 확인\n",
    "df[df.isin([np.nan, np.inf, -np.inf]).any(1)] # any(1) 한개의 요소값이 True일 경우 해당 row를 표시"
   ]
  },
  {
   "cell_type": "markdown",
   "metadata": {},
   "source": [
    "## 3. 데이터 선택방법 - 슬라이싱, 인덱싱, 서브셋 데이터 추출"
   ]
  },
  {
   "cell_type": "code",
   "execution_count": 11,
   "metadata": {},
   "outputs": [
    {
     "name": "stdout",
     "output_type": "stream",
     "text": [
      "<class 'pandas.core.frame.DataFrame'>\n",
      "DatetimeIndex: 1258 entries, 2017-09-27 to 2022-09-26\n",
      "Data columns (total 6 columns):\n",
      " #   Column     Non-Null Count  Dtype  \n",
      "---  ------     --------------  -----  \n",
      " 0   High       1258 non-null   float64\n",
      " 1   Low        1258 non-null   float64\n",
      " 2   Open       1258 non-null   float64\n",
      " 3   Close      1258 non-null   float64\n",
      " 4   Volume     1258 non-null   float64\n",
      " 5   Adj Close  1258 non-null   float64\n",
      "dtypes: float64(6)\n",
      "memory usage: 68.8 KB\n"
     ]
    }
   ],
   "source": [
    "df.info()"
   ]
  },
  {
   "cell_type": "code",
   "execution_count": 12,
   "metadata": {},
   "outputs": [
    {
     "data": {
      "text/plain": [
       "Date\n",
       "2017-09-27    38.450001\n",
       "2017-09-28    38.472500\n",
       "2017-09-29    38.302502\n",
       "2017-10-02    38.564999\n",
       "2017-10-03    38.502499\n",
       "Name: Open, dtype: float64"
      ]
     },
     "execution_count": 12,
     "metadata": {},
     "output_type": "execute_result"
    }
   ],
   "source": [
    "df[\"Open\"].head()"
   ]
  },
  {
   "cell_type": "markdown",
   "metadata": {},
   "source": [
    "### 컬럼 인덱싱  \n",
    "   - 리스트 형식으로 전달해야 함  \n",
    "   - 리스트 형식이 아닌 경우엔 ('Open', 'high') 튜플 컬럼을 검색함  \n",
    "   - df[\"Open\", \"High\"].head()으로 하면 에러 발생"
   ]
  },
  {
   "cell_type": "code",
   "execution_count": 13,
   "metadata": {},
   "outputs": [
    {
     "data": {
      "text/html": [
       "<div>\n",
       "<style scoped>\n",
       "    .dataframe tbody tr th:only-of-type {\n",
       "        vertical-align: middle;\n",
       "    }\n",
       "\n",
       "    .dataframe tbody tr th {\n",
       "        vertical-align: top;\n",
       "    }\n",
       "\n",
       "    .dataframe thead th {\n",
       "        text-align: right;\n",
       "    }\n",
       "</style>\n",
       "<table border=\"1\" class=\"dataframe\">\n",
       "  <thead>\n",
       "    <tr style=\"text-align: right;\">\n",
       "      <th></th>\n",
       "      <th>Open</th>\n",
       "      <th>High</th>\n",
       "    </tr>\n",
       "    <tr>\n",
       "      <th>Date</th>\n",
       "      <th></th>\n",
       "      <th></th>\n",
       "    </tr>\n",
       "  </thead>\n",
       "  <tbody>\n",
       "    <tr>\n",
       "      <th>2017-09-27</th>\n",
       "      <td>38.450001</td>\n",
       "      <td>38.680000</td>\n",
       "    </tr>\n",
       "    <tr>\n",
       "      <th>2017-09-28</th>\n",
       "      <td>38.472500</td>\n",
       "      <td>38.570000</td>\n",
       "    </tr>\n",
       "    <tr>\n",
       "      <th>2017-09-29</th>\n",
       "      <td>38.302502</td>\n",
       "      <td>38.532501</td>\n",
       "    </tr>\n",
       "    <tr>\n",
       "      <th>2017-10-02</th>\n",
       "      <td>38.564999</td>\n",
       "      <td>38.612499</td>\n",
       "    </tr>\n",
       "    <tr>\n",
       "      <th>2017-10-03</th>\n",
       "      <td>38.502499</td>\n",
       "      <td>38.772499</td>\n",
       "    </tr>\n",
       "  </tbody>\n",
       "</table>\n",
       "</div>"
      ],
      "text/plain": [
       "                 Open       High\n",
       "Date                            \n",
       "2017-09-27  38.450001  38.680000\n",
       "2017-09-28  38.472500  38.570000\n",
       "2017-09-29  38.302502  38.532501\n",
       "2017-10-02  38.564999  38.612499\n",
       "2017-10-03  38.502499  38.772499"
      ]
     },
     "execution_count": 13,
     "metadata": {},
     "output_type": "execute_result"
    }
   ],
   "source": [
    "df[[\"Open\", \"High\"]].head()"
   ]
  },
  {
   "cell_type": "markdown",
   "metadata": {},
   "source": [
    "### 행단위 인덱싱 및 슬라이싱 : 그냥 하면 됨"
   ]
  },
  {
   "cell_type": "code",
   "execution_count": 14,
   "metadata": {},
   "outputs": [
    {
     "data": {
      "text/html": [
       "<div>\n",
       "<style scoped>\n",
       "    .dataframe tbody tr th:only-of-type {\n",
       "        vertical-align: middle;\n",
       "    }\n",
       "\n",
       "    .dataframe tbody tr th {\n",
       "        vertical-align: top;\n",
       "    }\n",
       "\n",
       "    .dataframe thead th {\n",
       "        text-align: right;\n",
       "    }\n",
       "</style>\n",
       "<table border=\"1\" class=\"dataframe\">\n",
       "  <thead>\n",
       "    <tr style=\"text-align: right;\">\n",
       "      <th></th>\n",
       "      <th>High</th>\n",
       "      <th>Low</th>\n",
       "      <th>Open</th>\n",
       "      <th>Close</th>\n",
       "      <th>Volume</th>\n",
       "      <th>Adj Close</th>\n",
       "    </tr>\n",
       "    <tr>\n",
       "      <th>Date</th>\n",
       "      <th></th>\n",
       "      <th></th>\n",
       "      <th></th>\n",
       "      <th></th>\n",
       "      <th></th>\n",
       "      <th></th>\n",
       "    </tr>\n",
       "  </thead>\n",
       "  <tbody>\n",
       "    <tr>\n",
       "      <th>2017-09-27</th>\n",
       "      <td>38.680000</td>\n",
       "      <td>38.384998</td>\n",
       "      <td>38.450001</td>\n",
       "      <td>38.557499</td>\n",
       "      <td>102016800.0</td>\n",
       "      <td>36.593582</td>\n",
       "    </tr>\n",
       "    <tr>\n",
       "      <th>2017-09-28</th>\n",
       "      <td>38.570000</td>\n",
       "      <td>38.174999</td>\n",
       "      <td>38.472500</td>\n",
       "      <td>38.320000</td>\n",
       "      <td>88022000.0</td>\n",
       "      <td>36.368187</td>\n",
       "    </tr>\n",
       "    <tr>\n",
       "      <th>2017-09-29</th>\n",
       "      <td>38.532501</td>\n",
       "      <td>38.000000</td>\n",
       "      <td>38.302502</td>\n",
       "      <td>38.529999</td>\n",
       "      <td>105199200.0</td>\n",
       "      <td>36.567497</td>\n",
       "    </tr>\n",
       "  </tbody>\n",
       "</table>\n",
       "</div>"
      ],
      "text/plain": [
       "                 High        Low       Open      Close       Volume  Adj Close\n",
       "Date                                                                          \n",
       "2017-09-27  38.680000  38.384998  38.450001  38.557499  102016800.0  36.593582\n",
       "2017-09-28  38.570000  38.174999  38.472500  38.320000   88022000.0  36.368187\n",
       "2017-09-29  38.532501  38.000000  38.302502  38.529999  105199200.0  36.567497"
      ]
     },
     "execution_count": 14,
     "metadata": {},
     "output_type": "execute_result"
    }
   ],
   "source": [
    "df[0:3]"
   ]
  },
  {
   "cell_type": "code",
   "execution_count": 15,
   "metadata": {},
   "outputs": [
    {
     "data": {
      "text/html": [
       "<div>\n",
       "<style scoped>\n",
       "    .dataframe tbody tr th:only-of-type {\n",
       "        vertical-align: middle;\n",
       "    }\n",
       "\n",
       "    .dataframe tbody tr th {\n",
       "        vertical-align: top;\n",
       "    }\n",
       "\n",
       "    .dataframe thead th {\n",
       "        text-align: right;\n",
       "    }\n",
       "</style>\n",
       "<table border=\"1\" class=\"dataframe\">\n",
       "  <thead>\n",
       "    <tr style=\"text-align: right;\">\n",
       "      <th></th>\n",
       "      <th>High</th>\n",
       "      <th>Low</th>\n",
       "      <th>Open</th>\n",
       "      <th>Close</th>\n",
       "      <th>Volume</th>\n",
       "      <th>Adj Close</th>\n",
       "    </tr>\n",
       "    <tr>\n",
       "      <th>Date</th>\n",
       "      <th></th>\n",
       "      <th></th>\n",
       "      <th></th>\n",
       "      <th></th>\n",
       "      <th></th>\n",
       "      <th></th>\n",
       "    </tr>\n",
       "  </thead>\n",
       "  <tbody>\n",
       "    <tr>\n",
       "      <th>2020-04-13</th>\n",
       "      <td>68.425003</td>\n",
       "      <td>66.457497</td>\n",
       "      <td>67.077499</td>\n",
       "      <td>68.312500</td>\n",
       "      <td>131022800.0</td>\n",
       "      <td>67.194328</td>\n",
       "    </tr>\n",
       "    <tr>\n",
       "      <th>2020-04-14</th>\n",
       "      <td>72.062500</td>\n",
       "      <td>69.512497</td>\n",
       "      <td>70.000000</td>\n",
       "      <td>71.762497</td>\n",
       "      <td>194994800.0</td>\n",
       "      <td>70.587852</td>\n",
       "    </tr>\n",
       "    <tr>\n",
       "      <th>2020-04-15</th>\n",
       "      <td>71.582497</td>\n",
       "      <td>70.157501</td>\n",
       "      <td>70.599998</td>\n",
       "      <td>71.107498</td>\n",
       "      <td>131154400.0</td>\n",
       "      <td>69.943581</td>\n",
       "    </tr>\n",
       "    <tr>\n",
       "      <th>2020-04-16</th>\n",
       "      <td>72.050003</td>\n",
       "      <td>70.587502</td>\n",
       "      <td>71.845001</td>\n",
       "      <td>71.672501</td>\n",
       "      <td>157125200.0</td>\n",
       "      <td>70.499336</td>\n",
       "    </tr>\n",
       "  </tbody>\n",
       "</table>\n",
       "</div>"
      ],
      "text/plain": [
       "                 High        Low       Open      Close       Volume  Adj Close\n",
       "Date                                                                          \n",
       "2020-04-13  68.425003  66.457497  67.077499  68.312500  131022800.0  67.194328\n",
       "2020-04-14  72.062500  69.512497  70.000000  71.762497  194994800.0  70.587852\n",
       "2020-04-15  71.582497  70.157501  70.599998  71.107498  131154400.0  69.943581\n",
       "2020-04-16  72.050003  70.587502  71.845001  71.672501  157125200.0  70.499336"
      ]
     },
     "execution_count": 15,
     "metadata": {},
     "output_type": "execute_result"
    }
   ],
   "source": [
    "df['2020-04-13':'2020-04-16']"
   ]
  },
  {
   "cell_type": "markdown",
   "metadata": {},
   "source": [
    "### 인덱서 : iloc, loc  (행과 열 모두 추출가능)  \n",
    "- loc : 인덱스 라벨 값 기반으로 데이터 추출  \n",
    "- iloc : 정수형 값으로 데이터 추출"
   ]
  },
  {
   "cell_type": "code",
   "execution_count": 16,
   "metadata": {},
   "outputs": [
    {
     "name": "stdout",
     "output_type": "stream",
     "text": [
      "<class 'pandas.core.indexes.range.RangeIndex'>\n",
      "<class 'int'>\n"
     ]
    },
    {
     "data": {
      "text/html": [
       "<div>\n",
       "<style scoped>\n",
       "    .dataframe tbody tr th:only-of-type {\n",
       "        vertical-align: middle;\n",
       "    }\n",
       "\n",
       "    .dataframe tbody tr th {\n",
       "        vertical-align: top;\n",
       "    }\n",
       "\n",
       "    .dataframe thead th {\n",
       "        text-align: right;\n",
       "    }\n",
       "</style>\n",
       "<table border=\"1\" class=\"dataframe\">\n",
       "  <thead>\n",
       "    <tr style=\"text-align: right;\">\n",
       "      <th></th>\n",
       "      <th>Date</th>\n",
       "      <th>High</th>\n",
       "      <th>Low</th>\n",
       "      <th>Open</th>\n",
       "      <th>Close</th>\n",
       "      <th>Volume</th>\n",
       "      <th>Adj Close</th>\n",
       "    </tr>\n",
       "  </thead>\n",
       "  <tbody>\n",
       "    <tr>\n",
       "      <th>0</th>\n",
       "      <td>2017-09-27</td>\n",
       "      <td>38.680000</td>\n",
       "      <td>38.384998</td>\n",
       "      <td>38.450001</td>\n",
       "      <td>38.557499</td>\n",
       "      <td>102016800.0</td>\n",
       "      <td>36.593582</td>\n",
       "    </tr>\n",
       "    <tr>\n",
       "      <th>1</th>\n",
       "      <td>2017-09-28</td>\n",
       "      <td>38.570000</td>\n",
       "      <td>38.174999</td>\n",
       "      <td>38.472500</td>\n",
       "      <td>38.320000</td>\n",
       "      <td>88022000.0</td>\n",
       "      <td>36.368187</td>\n",
       "    </tr>\n",
       "    <tr>\n",
       "      <th>2</th>\n",
       "      <td>2017-09-29</td>\n",
       "      <td>38.532501</td>\n",
       "      <td>38.000000</td>\n",
       "      <td>38.302502</td>\n",
       "      <td>38.529999</td>\n",
       "      <td>105199200.0</td>\n",
       "      <td>36.567497</td>\n",
       "    </tr>\n",
       "    <tr>\n",
       "      <th>3</th>\n",
       "      <td>2017-10-02</td>\n",
       "      <td>38.612499</td>\n",
       "      <td>38.180000</td>\n",
       "      <td>38.564999</td>\n",
       "      <td>38.452499</td>\n",
       "      <td>74795200.0</td>\n",
       "      <td>36.493938</td>\n",
       "    </tr>\n",
       "    <tr>\n",
       "      <th>4</th>\n",
       "      <td>2017-10-03</td>\n",
       "      <td>38.772499</td>\n",
       "      <td>38.477501</td>\n",
       "      <td>38.502499</td>\n",
       "      <td>38.619999</td>\n",
       "      <td>64921200.0</td>\n",
       "      <td>36.652901</td>\n",
       "    </tr>\n",
       "  </tbody>\n",
       "</table>\n",
       "</div>"
      ],
      "text/plain": [
       "         Date       High        Low       Open      Close       Volume  \\\n",
       "0  2017-09-27  38.680000  38.384998  38.450001  38.557499  102016800.0   \n",
       "1  2017-09-28  38.570000  38.174999  38.472500  38.320000   88022000.0   \n",
       "2  2017-09-29  38.532501  38.000000  38.302502  38.529999  105199200.0   \n",
       "3  2017-10-02  38.612499  38.180000  38.564999  38.452499   74795200.0   \n",
       "4  2017-10-03  38.772499  38.477501  38.502499  38.619999   64921200.0   \n",
       "\n",
       "   Adj Close  \n",
       "0  36.593582  \n",
       "1  36.368187  \n",
       "2  36.567497  \n",
       "3  36.493938  \n",
       "4  36.652901  "
      ]
     },
     "execution_count": 16,
     "metadata": {},
     "output_type": "execute_result"
    }
   ],
   "source": [
    "df = pd.read_csv(\"AAPL.csv\") # 데이터를 불러올때 별도의 인덱스를 설정하지 않을 경우\n",
    "print(type(df.index))\n",
    "print(type(df.index[0]))\n",
    "df.head()"
   ]
  },
  {
   "cell_type": "code",
   "execution_count": 17,
   "metadata": {},
   "outputs": [
    {
     "name": "stdout",
     "output_type": "stream",
     "text": [
      "<class 'pandas.core.indexes.datetimes.DatetimeIndex'>\n",
      "<class 'pandas._libs.tslibs.timestamps.Timestamp'>\n"
     ]
    },
    {
     "data": {
      "text/html": [
       "<div>\n",
       "<style scoped>\n",
       "    .dataframe tbody tr th:only-of-type {\n",
       "        vertical-align: middle;\n",
       "    }\n",
       "\n",
       "    .dataframe tbody tr th {\n",
       "        vertical-align: top;\n",
       "    }\n",
       "\n",
       "    .dataframe thead th {\n",
       "        text-align: right;\n",
       "    }\n",
       "</style>\n",
       "<table border=\"1\" class=\"dataframe\">\n",
       "  <thead>\n",
       "    <tr style=\"text-align: right;\">\n",
       "      <th></th>\n",
       "      <th>High</th>\n",
       "      <th>Low</th>\n",
       "      <th>Open</th>\n",
       "      <th>Close</th>\n",
       "      <th>Volume</th>\n",
       "      <th>Adj Close</th>\n",
       "    </tr>\n",
       "    <tr>\n",
       "      <th>Date</th>\n",
       "      <th></th>\n",
       "      <th></th>\n",
       "      <th></th>\n",
       "      <th></th>\n",
       "      <th></th>\n",
       "      <th></th>\n",
       "    </tr>\n",
       "  </thead>\n",
       "  <tbody>\n",
       "    <tr>\n",
       "      <th>2017-09-27</th>\n",
       "      <td>38.680000</td>\n",
       "      <td>38.384998</td>\n",
       "      <td>38.450001</td>\n",
       "      <td>38.557499</td>\n",
       "      <td>102016800.0</td>\n",
       "      <td>36.593582</td>\n",
       "    </tr>\n",
       "    <tr>\n",
       "      <th>2017-09-28</th>\n",
       "      <td>38.570000</td>\n",
       "      <td>38.174999</td>\n",
       "      <td>38.472500</td>\n",
       "      <td>38.320000</td>\n",
       "      <td>88022000.0</td>\n",
       "      <td>36.368187</td>\n",
       "    </tr>\n",
       "    <tr>\n",
       "      <th>2017-09-29</th>\n",
       "      <td>38.532501</td>\n",
       "      <td>38.000000</td>\n",
       "      <td>38.302502</td>\n",
       "      <td>38.529999</td>\n",
       "      <td>105199200.0</td>\n",
       "      <td>36.567497</td>\n",
       "    </tr>\n",
       "    <tr>\n",
       "      <th>2017-10-02</th>\n",
       "      <td>38.612499</td>\n",
       "      <td>38.180000</td>\n",
       "      <td>38.564999</td>\n",
       "      <td>38.452499</td>\n",
       "      <td>74795200.0</td>\n",
       "      <td>36.493938</td>\n",
       "    </tr>\n",
       "    <tr>\n",
       "      <th>2017-10-03</th>\n",
       "      <td>38.772499</td>\n",
       "      <td>38.477501</td>\n",
       "      <td>38.502499</td>\n",
       "      <td>38.619999</td>\n",
       "      <td>64921200.0</td>\n",
       "      <td>36.652901</td>\n",
       "    </tr>\n",
       "  </tbody>\n",
       "</table>\n",
       "</div>"
      ],
      "text/plain": [
       "                 High        Low       Open      Close       Volume  Adj Close\n",
       "Date                                                                          \n",
       "2017-09-27  38.680000  38.384998  38.450001  38.557499  102016800.0  36.593582\n",
       "2017-09-28  38.570000  38.174999  38.472500  38.320000   88022000.0  36.368187\n",
       "2017-09-29  38.532501  38.000000  38.302502  38.529999  105199200.0  36.567497\n",
       "2017-10-02  38.612499  38.180000  38.564999  38.452499   74795200.0  36.493938\n",
       "2017-10-03  38.772499  38.477501  38.502499  38.619999   64921200.0  36.652901"
      ]
     },
     "execution_count": 17,
     "metadata": {},
     "output_type": "execute_result"
    }
   ],
   "source": [
    "df = pd.read_csv(\"AAPL.csv\", index_col=\"Date\", parse_dates=[\"Date\"]) # 데이터를 불러올때 별도의 인덱스를 설정하는 경우\n",
    "print(type(df.index))\n",
    "print(type(df.index[0]))\n",
    "df.head()"
   ]
  },
  {
   "cell_type": "markdown",
   "metadata": {},
   "source": [
    "### loc을 이용한 인덱싱"
   ]
  },
  {
   "cell_type": "code",
   "execution_count": 18,
   "metadata": {},
   "outputs": [
    {
     "data": {
      "text/plain": [
       "High         3.857000e+01\n",
       "Low          3.817500e+01\n",
       "Open         3.847250e+01\n",
       "Close        3.832000e+01\n",
       "Volume       8.802200e+07\n",
       "Adj Close    3.636819e+01\n",
       "Name: 2017-09-28 00:00:00, dtype: float64"
      ]
     },
     "execution_count": 18,
     "metadata": {},
     "output_type": "execute_result"
    }
   ],
   "source": [
    "df.loc['2017-09-28']"
   ]
  },
  {
   "cell_type": "markdown",
   "metadata": {},
   "source": [
    "iloc을 이용한 인덱싱"
   ]
  },
  {
   "cell_type": "code",
   "execution_count": 19,
   "metadata": {},
   "outputs": [
    {
     "data": {
      "text/plain": [
       "High         3.868000e+01\n",
       "Low          3.838500e+01\n",
       "Open         3.845000e+01\n",
       "Close        3.855750e+01\n",
       "Volume       1.020168e+08\n",
       "Adj Close    3.659358e+01\n",
       "Name: 2017-09-27 00:00:00, dtype: float64"
      ]
     },
     "execution_count": 19,
     "metadata": {},
     "output_type": "execute_result"
    }
   ],
   "source": [
    "df.iloc[0]"
   ]
  },
  {
   "cell_type": "markdown",
   "metadata": {},
   "source": [
    "### loc을 이용한 행, 열 인덱싱 & 슬라이싱  \n",
    "방법 : df.loc[행 인덱싱 값, 열 인덱싱 값]"
   ]
  },
  {
   "cell_type": "code",
   "execution_count": 20,
   "metadata": {},
   "outputs": [
    {
     "data": {
      "text/html": [
       "<div>\n",
       "<style scoped>\n",
       "    .dataframe tbody tr th:only-of-type {\n",
       "        vertical-align: middle;\n",
       "    }\n",
       "\n",
       "    .dataframe tbody tr th {\n",
       "        vertical-align: top;\n",
       "    }\n",
       "\n",
       "    .dataframe thead th {\n",
       "        text-align: right;\n",
       "    }\n",
       "</style>\n",
       "<table border=\"1\" class=\"dataframe\">\n",
       "  <thead>\n",
       "    <tr style=\"text-align: right;\">\n",
       "      <th></th>\n",
       "      <th>Open</th>\n",
       "      <th>Low</th>\n",
       "    </tr>\n",
       "    <tr>\n",
       "      <th>Date</th>\n",
       "      <th></th>\n",
       "      <th></th>\n",
       "    </tr>\n",
       "  </thead>\n",
       "  <tbody>\n",
       "    <tr>\n",
       "      <th>2018-10-10</th>\n",
       "      <td>56.365002</td>\n",
       "      <td>54.012501</td>\n",
       "    </tr>\n",
       "    <tr>\n",
       "      <th>2018-10-11</th>\n",
       "      <td>53.630001</td>\n",
       "      <td>53.080002</td>\n",
       "    </tr>\n",
       "    <tr>\n",
       "      <th>2018-10-12</th>\n",
       "      <td>55.105000</td>\n",
       "      <td>54.209999</td>\n",
       "    </tr>\n",
       "    <tr>\n",
       "      <th>2018-10-15</th>\n",
       "      <td>55.290001</td>\n",
       "      <td>54.317501</td>\n",
       "    </tr>\n",
       "    <tr>\n",
       "      <th>2018-10-16</th>\n",
       "      <td>54.732498</td>\n",
       "      <td>54.189999</td>\n",
       "    </tr>\n",
       "    <tr>\n",
       "      <th>2018-10-17</th>\n",
       "      <td>55.575001</td>\n",
       "      <td>54.834999</td>\n",
       "    </tr>\n",
       "    <tr>\n",
       "      <th>2018-10-18</th>\n",
       "      <td>54.465000</td>\n",
       "      <td>53.250000</td>\n",
       "    </tr>\n",
       "    <tr>\n",
       "      <th>2018-10-19</th>\n",
       "      <td>54.514999</td>\n",
       "      <td>54.357498</td>\n",
       "    </tr>\n",
       "  </tbody>\n",
       "</table>\n",
       "</div>"
      ],
      "text/plain": [
       "                 Open        Low\n",
       "Date                            \n",
       "2018-10-10  56.365002  54.012501\n",
       "2018-10-11  53.630001  53.080002\n",
       "2018-10-12  55.105000  54.209999\n",
       "2018-10-15  55.290001  54.317501\n",
       "2018-10-16  54.732498  54.189999\n",
       "2018-10-17  55.575001  54.834999\n",
       "2018-10-18  54.465000  53.250000\n",
       "2018-10-19  54.514999  54.357498"
      ]
     },
     "execution_count": 20,
     "metadata": {},
     "output_type": "execute_result"
    }
   ],
   "source": [
    "df.loc['2018-10-10':'2018-10-20', ['Open', 'Low']]"
   ]
  },
  {
   "cell_type": "markdown",
   "metadata": {},
   "source": [
    "### iloc을 이용한 행, 열 인덱싱 & 슬라이싱\n",
    "방법 : df.iloc[행 인덱싱(정수), 열 인덱싱(정수)]"
   ]
  },
  {
   "cell_type": "code",
   "execution_count": 21,
   "metadata": {},
   "outputs": [
    {
     "data": {
      "text/html": [
       "<div>\n",
       "<style scoped>\n",
       "    .dataframe tbody tr th:only-of-type {\n",
       "        vertical-align: middle;\n",
       "    }\n",
       "\n",
       "    .dataframe tbody tr th {\n",
       "        vertical-align: top;\n",
       "    }\n",
       "\n",
       "    .dataframe thead th {\n",
       "        text-align: right;\n",
       "    }\n",
       "</style>\n",
       "<table border=\"1\" class=\"dataframe\">\n",
       "  <thead>\n",
       "    <tr style=\"text-align: right;\">\n",
       "      <th></th>\n",
       "      <th>High</th>\n",
       "      <th>Low</th>\n",
       "      <th>Open</th>\n",
       "      <th>Close</th>\n",
       "    </tr>\n",
       "    <tr>\n",
       "      <th>Date</th>\n",
       "      <th></th>\n",
       "      <th></th>\n",
       "      <th></th>\n",
       "      <th></th>\n",
       "    </tr>\n",
       "  </thead>\n",
       "  <tbody>\n",
       "    <tr>\n",
       "      <th>2018-07-16</th>\n",
       "      <td>48.162498</td>\n",
       "      <td>47.605000</td>\n",
       "      <td>47.880001</td>\n",
       "      <td>47.727501</td>\n",
       "    </tr>\n",
       "    <tr>\n",
       "      <th>2018-07-17</th>\n",
       "      <td>47.967499</td>\n",
       "      <td>47.299999</td>\n",
       "      <td>47.437500</td>\n",
       "      <td>47.862499</td>\n",
       "    </tr>\n",
       "    <tr>\n",
       "      <th>2018-07-18</th>\n",
       "      <td>47.950001</td>\n",
       "      <td>47.482498</td>\n",
       "      <td>47.945000</td>\n",
       "      <td>47.599998</td>\n",
       "    </tr>\n",
       "    <tr>\n",
       "      <th>2018-07-19</th>\n",
       "      <td>48.137501</td>\n",
       "      <td>47.422501</td>\n",
       "      <td>47.422501</td>\n",
       "      <td>47.970001</td>\n",
       "    </tr>\n",
       "    <tr>\n",
       "      <th>2018-07-20</th>\n",
       "      <td>48.107498</td>\n",
       "      <td>47.542500</td>\n",
       "      <td>47.945000</td>\n",
       "      <td>47.860001</td>\n",
       "    </tr>\n",
       "    <tr>\n",
       "      <th>2018-07-23</th>\n",
       "      <td>47.990002</td>\n",
       "      <td>47.389999</td>\n",
       "      <td>47.669998</td>\n",
       "      <td>47.902500</td>\n",
       "    </tr>\n",
       "    <tr>\n",
       "      <th>2018-07-24</th>\n",
       "      <td>48.415001</td>\n",
       "      <td>48.012501</td>\n",
       "      <td>48.112499</td>\n",
       "      <td>48.250000</td>\n",
       "    </tr>\n",
       "    <tr>\n",
       "      <th>2018-07-25</th>\n",
       "      <td>48.712502</td>\n",
       "      <td>48.107498</td>\n",
       "      <td>48.264999</td>\n",
       "      <td>48.705002</td>\n",
       "    </tr>\n",
       "    <tr>\n",
       "      <th>2018-07-26</th>\n",
       "      <td>48.990002</td>\n",
       "      <td>48.402500</td>\n",
       "      <td>48.652500</td>\n",
       "      <td>48.552502</td>\n",
       "    </tr>\n",
       "    <tr>\n",
       "      <th>2018-07-27</th>\n",
       "      <td>48.797501</td>\n",
       "      <td>47.525002</td>\n",
       "      <td>48.747501</td>\n",
       "      <td>47.744999</td>\n",
       "    </tr>\n",
       "  </tbody>\n",
       "</table>\n",
       "</div>"
      ],
      "text/plain": [
       "                 High        Low       Open      Close\n",
       "Date                                                  \n",
       "2018-07-16  48.162498  47.605000  47.880001  47.727501\n",
       "2018-07-17  47.967499  47.299999  47.437500  47.862499\n",
       "2018-07-18  47.950001  47.482498  47.945000  47.599998\n",
       "2018-07-19  48.137501  47.422501  47.422501  47.970001\n",
       "2018-07-20  48.107498  47.542500  47.945000  47.860001\n",
       "2018-07-23  47.990002  47.389999  47.669998  47.902500\n",
       "2018-07-24  48.415001  48.012501  48.112499  48.250000\n",
       "2018-07-25  48.712502  48.107498  48.264999  48.705002\n",
       "2018-07-26  48.990002  48.402500  48.652500  48.552502\n",
       "2018-07-27  48.797501  47.525002  48.747501  47.744999"
      ]
     },
     "execution_count": 21,
     "metadata": {},
     "output_type": "execute_result"
    }
   ],
   "source": [
    "df.iloc[200:210, [0,1,2,3]]"
   ]
  },
  {
   "cell_type": "markdown",
   "metadata": {},
   "source": [
    "### 연, 월 형식으로만 전달해도 인덱싱 가능"
   ]
  },
  {
   "cell_type": "code",
   "execution_count": 22,
   "metadata": {},
   "outputs": [
    {
     "data": {
      "text/html": [
       "<div>\n",
       "<style scoped>\n",
       "    .dataframe tbody tr th:only-of-type {\n",
       "        vertical-align: middle;\n",
       "    }\n",
       "\n",
       "    .dataframe tbody tr th {\n",
       "        vertical-align: top;\n",
       "    }\n",
       "\n",
       "    .dataframe thead th {\n",
       "        text-align: right;\n",
       "    }\n",
       "</style>\n",
       "<table border=\"1\" class=\"dataframe\">\n",
       "  <thead>\n",
       "    <tr style=\"text-align: right;\">\n",
       "      <th></th>\n",
       "      <th>High</th>\n",
       "      <th>Low</th>\n",
       "      <th>Open</th>\n",
       "      <th>Close</th>\n",
       "      <th>Volume</th>\n",
       "      <th>Adj Close</th>\n",
       "    </tr>\n",
       "    <tr>\n",
       "      <th>Date</th>\n",
       "      <th></th>\n",
       "      <th></th>\n",
       "      <th></th>\n",
       "      <th></th>\n",
       "      <th></th>\n",
       "      <th></th>\n",
       "    </tr>\n",
       "  </thead>\n",
       "  <tbody>\n",
       "    <tr>\n",
       "      <th>2018-10-01</th>\n",
       "      <td>57.355000</td>\n",
       "      <td>56.587502</td>\n",
       "      <td>56.987499</td>\n",
       "      <td>56.814999</td>\n",
       "      <td>94403200.0</td>\n",
       "      <td>54.736431</td>\n",
       "    </tr>\n",
       "    <tr>\n",
       "      <th>2018-10-02</th>\n",
       "      <td>57.500000</td>\n",
       "      <td>56.657501</td>\n",
       "      <td>56.812500</td>\n",
       "      <td>57.320000</td>\n",
       "      <td>99152800.0</td>\n",
       "      <td>55.222961</td>\n",
       "    </tr>\n",
       "    <tr>\n",
       "      <th>2018-10-03</th>\n",
       "      <td>58.367500</td>\n",
       "      <td>57.445000</td>\n",
       "      <td>57.512501</td>\n",
       "      <td>58.017502</td>\n",
       "      <td>114619200.0</td>\n",
       "      <td>55.894943</td>\n",
       "    </tr>\n",
       "    <tr>\n",
       "      <th>2018-10-04</th>\n",
       "      <td>58.087502</td>\n",
       "      <td>56.682499</td>\n",
       "      <td>57.695000</td>\n",
       "      <td>56.997501</td>\n",
       "      <td>128168000.0</td>\n",
       "      <td>54.912262</td>\n",
       "    </tr>\n",
       "    <tr>\n",
       "      <th>2018-10-05</th>\n",
       "      <td>57.102501</td>\n",
       "      <td>55.145000</td>\n",
       "      <td>56.990002</td>\n",
       "      <td>56.072498</td>\n",
       "      <td>134322000.0</td>\n",
       "      <td>54.021099</td>\n",
       "    </tr>\n",
       "  </tbody>\n",
       "</table>\n",
       "</div>"
      ],
      "text/plain": [
       "                 High        Low       Open      Close       Volume  Adj Close\n",
       "Date                                                                          \n",
       "2018-10-01  57.355000  56.587502  56.987499  56.814999   94403200.0  54.736431\n",
       "2018-10-02  57.500000  56.657501  56.812500  57.320000   99152800.0  55.222961\n",
       "2018-10-03  58.367500  57.445000  57.512501  58.017502  114619200.0  55.894943\n",
       "2018-10-04  58.087502  56.682499  57.695000  56.997501  128168000.0  54.912262\n",
       "2018-10-05  57.102501  55.145000  56.990002  56.072498  134322000.0  54.021099"
      ]
     },
     "execution_count": 22,
     "metadata": {},
     "output_type": "execute_result"
    }
   ],
   "source": [
    "df.loc['2018-10'].head() # 인덱스가 TImestamp 타입이기 때문에 가능 ('2018-Nov-1') 같은 형식도 가능하다"
   ]
  },
  {
   "cell_type": "markdown",
   "metadata": {},
   "source": [
    "## 2.4 금융 데이터 분석에 유용한 Pandas 함수"
   ]
  },
  {
   "cell_type": "markdown",
   "metadata": {},
   "source": [
    "### shift 함수\n",
    "인덱스에 연결된 데이터를 일정 간격으로 이동시키는 함수"
   ]
  },
  {
   "cell_type": "code",
   "execution_count": 23,
   "metadata": {},
   "outputs": [
    {
     "data": {
      "text/html": [
       "<div>\n",
       "<style scoped>\n",
       "    .dataframe tbody tr th:only-of-type {\n",
       "        vertical-align: middle;\n",
       "    }\n",
       "\n",
       "    .dataframe tbody tr th {\n",
       "        vertical-align: top;\n",
       "    }\n",
       "\n",
       "    .dataframe thead th {\n",
       "        text-align: right;\n",
       "    }\n",
       "</style>\n",
       "<table border=\"1\" class=\"dataframe\">\n",
       "  <thead>\n",
       "    <tr style=\"text-align: right;\">\n",
       "      <th></th>\n",
       "      <th>High</th>\n",
       "      <th>Low</th>\n",
       "      <th>Open</th>\n",
       "      <th>Close</th>\n",
       "      <th>Volume</th>\n",
       "      <th>Adj Close</th>\n",
       "      <th>Close_lag1</th>\n",
       "    </tr>\n",
       "    <tr>\n",
       "      <th>Date</th>\n",
       "      <th></th>\n",
       "      <th></th>\n",
       "      <th></th>\n",
       "      <th></th>\n",
       "      <th></th>\n",
       "      <th></th>\n",
       "      <th></th>\n",
       "    </tr>\n",
       "  </thead>\n",
       "  <tbody>\n",
       "    <tr>\n",
       "      <th>2017-09-27</th>\n",
       "      <td>38.680000</td>\n",
       "      <td>38.384998</td>\n",
       "      <td>38.450001</td>\n",
       "      <td>38.557499</td>\n",
       "      <td>102016800.0</td>\n",
       "      <td>36.593582</td>\n",
       "      <td>NaN</td>\n",
       "    </tr>\n",
       "    <tr>\n",
       "      <th>2017-09-28</th>\n",
       "      <td>38.570000</td>\n",
       "      <td>38.174999</td>\n",
       "      <td>38.472500</td>\n",
       "      <td>38.320000</td>\n",
       "      <td>88022000.0</td>\n",
       "      <td>36.368187</td>\n",
       "      <td>38.557499</td>\n",
       "    </tr>\n",
       "    <tr>\n",
       "      <th>2017-09-29</th>\n",
       "      <td>38.532501</td>\n",
       "      <td>38.000000</td>\n",
       "      <td>38.302502</td>\n",
       "      <td>38.529999</td>\n",
       "      <td>105199200.0</td>\n",
       "      <td>36.567497</td>\n",
       "      <td>38.320000</td>\n",
       "    </tr>\n",
       "    <tr>\n",
       "      <th>2017-10-02</th>\n",
       "      <td>38.612499</td>\n",
       "      <td>38.180000</td>\n",
       "      <td>38.564999</td>\n",
       "      <td>38.452499</td>\n",
       "      <td>74795200.0</td>\n",
       "      <td>36.493938</td>\n",
       "      <td>38.529999</td>\n",
       "    </tr>\n",
       "    <tr>\n",
       "      <th>2017-10-03</th>\n",
       "      <td>38.772499</td>\n",
       "      <td>38.477501</td>\n",
       "      <td>38.502499</td>\n",
       "      <td>38.619999</td>\n",
       "      <td>64921200.0</td>\n",
       "      <td>36.652901</td>\n",
       "      <td>38.452499</td>\n",
       "    </tr>\n",
       "    <tr>\n",
       "      <th>...</th>\n",
       "      <td>...</td>\n",
       "      <td>...</td>\n",
       "      <td>...</td>\n",
       "      <td>...</td>\n",
       "      <td>...</td>\n",
       "      <td>...</td>\n",
       "      <td>...</td>\n",
       "    </tr>\n",
       "    <tr>\n",
       "      <th>2022-09-20</th>\n",
       "      <td>158.080002</td>\n",
       "      <td>153.080002</td>\n",
       "      <td>153.399994</td>\n",
       "      <td>156.899994</td>\n",
       "      <td>107689800.0</td>\n",
       "      <td>156.899994</td>\n",
       "      <td>154.479996</td>\n",
       "    </tr>\n",
       "    <tr>\n",
       "      <th>2022-09-21</th>\n",
       "      <td>158.740005</td>\n",
       "      <td>153.600006</td>\n",
       "      <td>157.339996</td>\n",
       "      <td>153.720001</td>\n",
       "      <td>101696800.0</td>\n",
       "      <td>153.720001</td>\n",
       "      <td>156.899994</td>\n",
       "    </tr>\n",
       "    <tr>\n",
       "      <th>2022-09-22</th>\n",
       "      <td>154.470001</td>\n",
       "      <td>150.910004</td>\n",
       "      <td>152.380005</td>\n",
       "      <td>152.740005</td>\n",
       "      <td>86652500.0</td>\n",
       "      <td>152.740005</td>\n",
       "      <td>153.720001</td>\n",
       "    </tr>\n",
       "    <tr>\n",
       "      <th>2022-09-23</th>\n",
       "      <td>151.470001</td>\n",
       "      <td>148.559998</td>\n",
       "      <td>151.190002</td>\n",
       "      <td>150.429993</td>\n",
       "      <td>95939200.0</td>\n",
       "      <td>150.429993</td>\n",
       "      <td>152.740005</td>\n",
       "    </tr>\n",
       "    <tr>\n",
       "      <th>2022-09-26</th>\n",
       "      <td>153.770096</td>\n",
       "      <td>149.699997</td>\n",
       "      <td>149.660004</td>\n",
       "      <td>150.770004</td>\n",
       "      <td>90116709.0</td>\n",
       "      <td>150.770004</td>\n",
       "      <td>150.429993</td>\n",
       "    </tr>\n",
       "  </tbody>\n",
       "</table>\n",
       "<p>1258 rows × 7 columns</p>\n",
       "</div>"
      ],
      "text/plain": [
       "                  High         Low        Open       Close       Volume  \\\n",
       "Date                                                                      \n",
       "2017-09-27   38.680000   38.384998   38.450001   38.557499  102016800.0   \n",
       "2017-09-28   38.570000   38.174999   38.472500   38.320000   88022000.0   \n",
       "2017-09-29   38.532501   38.000000   38.302502   38.529999  105199200.0   \n",
       "2017-10-02   38.612499   38.180000   38.564999   38.452499   74795200.0   \n",
       "2017-10-03   38.772499   38.477501   38.502499   38.619999   64921200.0   \n",
       "...                ...         ...         ...         ...          ...   \n",
       "2022-09-20  158.080002  153.080002  153.399994  156.899994  107689800.0   \n",
       "2022-09-21  158.740005  153.600006  157.339996  153.720001  101696800.0   \n",
       "2022-09-22  154.470001  150.910004  152.380005  152.740005   86652500.0   \n",
       "2022-09-23  151.470001  148.559998  151.190002  150.429993   95939200.0   \n",
       "2022-09-26  153.770096  149.699997  149.660004  150.770004   90116709.0   \n",
       "\n",
       "             Adj Close  Close_lag1  \n",
       "Date                                \n",
       "2017-09-27   36.593582         NaN  \n",
       "2017-09-28   36.368187   38.557499  \n",
       "2017-09-29   36.567497   38.320000  \n",
       "2017-10-02   36.493938   38.529999  \n",
       "2017-10-03   36.652901   38.452499  \n",
       "...                ...         ...  \n",
       "2022-09-20  156.899994  154.479996  \n",
       "2022-09-21  153.720001  156.899994  \n",
       "2022-09-22  152.740005  153.720001  \n",
       "2022-09-23  150.429993  152.740005  \n",
       "2022-09-26  150.770004  150.429993  \n",
       "\n",
       "[1258 rows x 7 columns]"
      ]
     },
     "execution_count": 23,
     "metadata": {},
     "output_type": "execute_result"
    }
   ],
   "source": [
    "df['Close_lag1'] = df['Close'].shift() # option : period (default :1)\n",
    "df"
   ]
  },
  {
   "cell_type": "markdown",
   "metadata": {},
   "source": [
    "### pct_change() 함수\n",
    "백분율 변화량 연산 : 수익률 계산할 때 사용"
   ]
  },
  {
   "cell_type": "code",
   "execution_count": 24,
   "metadata": {},
   "outputs": [
    {
     "data": {
      "text/html": [
       "<div>\n",
       "<style scoped>\n",
       "    .dataframe tbody tr th:only-of-type {\n",
       "        vertical-align: middle;\n",
       "    }\n",
       "\n",
       "    .dataframe tbody tr th {\n",
       "        vertical-align: top;\n",
       "    }\n",
       "\n",
       "    .dataframe thead th {\n",
       "        text-align: right;\n",
       "    }\n",
       "</style>\n",
       "<table border=\"1\" class=\"dataframe\">\n",
       "  <thead>\n",
       "    <tr style=\"text-align: right;\">\n",
       "      <th></th>\n",
       "      <th>High</th>\n",
       "      <th>Low</th>\n",
       "      <th>Open</th>\n",
       "      <th>Close</th>\n",
       "      <th>Volume</th>\n",
       "      <th>Adj Close</th>\n",
       "      <th>Close_lag1</th>\n",
       "      <th>pct_change</th>\n",
       "    </tr>\n",
       "    <tr>\n",
       "      <th>Date</th>\n",
       "      <th></th>\n",
       "      <th></th>\n",
       "      <th></th>\n",
       "      <th></th>\n",
       "      <th></th>\n",
       "      <th></th>\n",
       "      <th></th>\n",
       "      <th></th>\n",
       "    </tr>\n",
       "  </thead>\n",
       "  <tbody>\n",
       "    <tr>\n",
       "      <th>2017-09-27</th>\n",
       "      <td>38.680000</td>\n",
       "      <td>38.384998</td>\n",
       "      <td>38.450001</td>\n",
       "      <td>38.557499</td>\n",
       "      <td>102016800.0</td>\n",
       "      <td>36.593582</td>\n",
       "      <td>NaN</td>\n",
       "      <td>NaN</td>\n",
       "    </tr>\n",
       "    <tr>\n",
       "      <th>2017-09-28</th>\n",
       "      <td>38.570000</td>\n",
       "      <td>38.174999</td>\n",
       "      <td>38.472500</td>\n",
       "      <td>38.320000</td>\n",
       "      <td>88022000.0</td>\n",
       "      <td>36.368187</td>\n",
       "      <td>38.557499</td>\n",
       "      <td>-0.006160</td>\n",
       "    </tr>\n",
       "    <tr>\n",
       "      <th>2017-09-29</th>\n",
       "      <td>38.532501</td>\n",
       "      <td>38.000000</td>\n",
       "      <td>38.302502</td>\n",
       "      <td>38.529999</td>\n",
       "      <td>105199200.0</td>\n",
       "      <td>36.567497</td>\n",
       "      <td>38.320000</td>\n",
       "      <td>0.005480</td>\n",
       "    </tr>\n",
       "    <tr>\n",
       "      <th>2017-10-02</th>\n",
       "      <td>38.612499</td>\n",
       "      <td>38.180000</td>\n",
       "      <td>38.564999</td>\n",
       "      <td>38.452499</td>\n",
       "      <td>74795200.0</td>\n",
       "      <td>36.493938</td>\n",
       "      <td>38.529999</td>\n",
       "      <td>-0.002011</td>\n",
       "    </tr>\n",
       "    <tr>\n",
       "      <th>2017-10-03</th>\n",
       "      <td>38.772499</td>\n",
       "      <td>38.477501</td>\n",
       "      <td>38.502499</td>\n",
       "      <td>38.619999</td>\n",
       "      <td>64921200.0</td>\n",
       "      <td>36.652901</td>\n",
       "      <td>38.452499</td>\n",
       "      <td>0.004356</td>\n",
       "    </tr>\n",
       "    <tr>\n",
       "      <th>...</th>\n",
       "      <td>...</td>\n",
       "      <td>...</td>\n",
       "      <td>...</td>\n",
       "      <td>...</td>\n",
       "      <td>...</td>\n",
       "      <td>...</td>\n",
       "      <td>...</td>\n",
       "      <td>...</td>\n",
       "    </tr>\n",
       "    <tr>\n",
       "      <th>2022-09-20</th>\n",
       "      <td>158.080002</td>\n",
       "      <td>153.080002</td>\n",
       "      <td>153.399994</td>\n",
       "      <td>156.899994</td>\n",
       "      <td>107689800.0</td>\n",
       "      <td>156.899994</td>\n",
       "      <td>154.479996</td>\n",
       "      <td>0.015665</td>\n",
       "    </tr>\n",
       "    <tr>\n",
       "      <th>2022-09-21</th>\n",
       "      <td>158.740005</td>\n",
       "      <td>153.600006</td>\n",
       "      <td>157.339996</td>\n",
       "      <td>153.720001</td>\n",
       "      <td>101696800.0</td>\n",
       "      <td>153.720001</td>\n",
       "      <td>156.899994</td>\n",
       "      <td>-0.020268</td>\n",
       "    </tr>\n",
       "    <tr>\n",
       "      <th>2022-09-22</th>\n",
       "      <td>154.470001</td>\n",
       "      <td>150.910004</td>\n",
       "      <td>152.380005</td>\n",
       "      <td>152.740005</td>\n",
       "      <td>86652500.0</td>\n",
       "      <td>152.740005</td>\n",
       "      <td>153.720001</td>\n",
       "      <td>-0.006375</td>\n",
       "    </tr>\n",
       "    <tr>\n",
       "      <th>2022-09-23</th>\n",
       "      <td>151.470001</td>\n",
       "      <td>148.559998</td>\n",
       "      <td>151.190002</td>\n",
       "      <td>150.429993</td>\n",
       "      <td>95939200.0</td>\n",
       "      <td>150.429993</td>\n",
       "      <td>152.740005</td>\n",
       "      <td>-0.015124</td>\n",
       "    </tr>\n",
       "    <tr>\n",
       "      <th>2022-09-26</th>\n",
       "      <td>153.770096</td>\n",
       "      <td>149.699997</td>\n",
       "      <td>149.660004</td>\n",
       "      <td>150.770004</td>\n",
       "      <td>90116709.0</td>\n",
       "      <td>150.770004</td>\n",
       "      <td>150.429993</td>\n",
       "      <td>0.002260</td>\n",
       "    </tr>\n",
       "  </tbody>\n",
       "</table>\n",
       "<p>1258 rows × 8 columns</p>\n",
       "</div>"
      ],
      "text/plain": [
       "                  High         Low        Open       Close       Volume  \\\n",
       "Date                                                                      \n",
       "2017-09-27   38.680000   38.384998   38.450001   38.557499  102016800.0   \n",
       "2017-09-28   38.570000   38.174999   38.472500   38.320000   88022000.0   \n",
       "2017-09-29   38.532501   38.000000   38.302502   38.529999  105199200.0   \n",
       "2017-10-02   38.612499   38.180000   38.564999   38.452499   74795200.0   \n",
       "2017-10-03   38.772499   38.477501   38.502499   38.619999   64921200.0   \n",
       "...                ...         ...         ...         ...          ...   \n",
       "2022-09-20  158.080002  153.080002  153.399994  156.899994  107689800.0   \n",
       "2022-09-21  158.740005  153.600006  157.339996  153.720001  101696800.0   \n",
       "2022-09-22  154.470001  150.910004  152.380005  152.740005   86652500.0   \n",
       "2022-09-23  151.470001  148.559998  151.190002  150.429993   95939200.0   \n",
       "2022-09-26  153.770096  149.699997  149.660004  150.770004   90116709.0   \n",
       "\n",
       "             Adj Close  Close_lag1  pct_change  \n",
       "Date                                            \n",
       "2017-09-27   36.593582         NaN         NaN  \n",
       "2017-09-28   36.368187   38.557499   -0.006160  \n",
       "2017-09-29   36.567497   38.320000    0.005480  \n",
       "2017-10-02   36.493938   38.529999   -0.002011  \n",
       "2017-10-03   36.652901   38.452499    0.004356  \n",
       "...                ...         ...         ...  \n",
       "2022-09-20  156.899994  154.479996    0.015665  \n",
       "2022-09-21  153.720001  156.899994   -0.020268  \n",
       "2022-09-22  152.740005  153.720001   -0.006375  \n",
       "2022-09-23  150.429993  152.740005   -0.015124  \n",
       "2022-09-26  150.770004  150.429993    0.002260  \n",
       "\n",
       "[1258 rows x 8 columns]"
      ]
     },
     "execution_count": 24,
     "metadata": {},
     "output_type": "execute_result"
    }
   ],
   "source": [
    "df['pct_change'] = df['Close'].pct_change() # option : period (default :1)\n",
    "df"
   ]
  },
  {
   "cell_type": "markdown",
   "metadata": {},
   "source": [
    "### diff() 함수\n",
    "변화량 연산, 뺄셈을 연산하는 함수"
   ]
  },
  {
   "cell_type": "code",
   "execution_count": 25,
   "metadata": {},
   "outputs": [
    {
     "data": {
      "text/html": [
       "<div>\n",
       "<style scoped>\n",
       "    .dataframe tbody tr th:only-of-type {\n",
       "        vertical-align: middle;\n",
       "    }\n",
       "\n",
       "    .dataframe tbody tr th {\n",
       "        vertical-align: top;\n",
       "    }\n",
       "\n",
       "    .dataframe thead th {\n",
       "        text-align: right;\n",
       "    }\n",
       "</style>\n",
       "<table border=\"1\" class=\"dataframe\">\n",
       "  <thead>\n",
       "    <tr style=\"text-align: right;\">\n",
       "      <th></th>\n",
       "      <th>High</th>\n",
       "      <th>Low</th>\n",
       "      <th>Open</th>\n",
       "      <th>Close</th>\n",
       "      <th>Volume</th>\n",
       "      <th>Adj Close</th>\n",
       "      <th>Close_lag1</th>\n",
       "      <th>pct_change</th>\n",
       "      <th>Close_diff</th>\n",
       "    </tr>\n",
       "    <tr>\n",
       "      <th>Date</th>\n",
       "      <th></th>\n",
       "      <th></th>\n",
       "      <th></th>\n",
       "      <th></th>\n",
       "      <th></th>\n",
       "      <th></th>\n",
       "      <th></th>\n",
       "      <th></th>\n",
       "      <th></th>\n",
       "    </tr>\n",
       "  </thead>\n",
       "  <tbody>\n",
       "    <tr>\n",
       "      <th>2017-09-27</th>\n",
       "      <td>38.680000</td>\n",
       "      <td>38.384998</td>\n",
       "      <td>38.450001</td>\n",
       "      <td>38.557499</td>\n",
       "      <td>102016800.0</td>\n",
       "      <td>36.593582</td>\n",
       "      <td>NaN</td>\n",
       "      <td>NaN</td>\n",
       "      <td>NaN</td>\n",
       "    </tr>\n",
       "    <tr>\n",
       "      <th>2017-09-28</th>\n",
       "      <td>38.570000</td>\n",
       "      <td>38.174999</td>\n",
       "      <td>38.472500</td>\n",
       "      <td>38.320000</td>\n",
       "      <td>88022000.0</td>\n",
       "      <td>36.368187</td>\n",
       "      <td>38.557499</td>\n",
       "      <td>-0.006160</td>\n",
       "      <td>-0.237499</td>\n",
       "    </tr>\n",
       "    <tr>\n",
       "      <th>2017-09-29</th>\n",
       "      <td>38.532501</td>\n",
       "      <td>38.000000</td>\n",
       "      <td>38.302502</td>\n",
       "      <td>38.529999</td>\n",
       "      <td>105199200.0</td>\n",
       "      <td>36.567497</td>\n",
       "      <td>38.320000</td>\n",
       "      <td>0.005480</td>\n",
       "      <td>0.209999</td>\n",
       "    </tr>\n",
       "    <tr>\n",
       "      <th>2017-10-02</th>\n",
       "      <td>38.612499</td>\n",
       "      <td>38.180000</td>\n",
       "      <td>38.564999</td>\n",
       "      <td>38.452499</td>\n",
       "      <td>74795200.0</td>\n",
       "      <td>36.493938</td>\n",
       "      <td>38.529999</td>\n",
       "      <td>-0.002011</td>\n",
       "      <td>-0.077499</td>\n",
       "    </tr>\n",
       "    <tr>\n",
       "      <th>2017-10-03</th>\n",
       "      <td>38.772499</td>\n",
       "      <td>38.477501</td>\n",
       "      <td>38.502499</td>\n",
       "      <td>38.619999</td>\n",
       "      <td>64921200.0</td>\n",
       "      <td>36.652901</td>\n",
       "      <td>38.452499</td>\n",
       "      <td>0.004356</td>\n",
       "      <td>0.167500</td>\n",
       "    </tr>\n",
       "  </tbody>\n",
       "</table>\n",
       "</div>"
      ],
      "text/plain": [
       "                 High        Low       Open      Close       Volume  \\\n",
       "Date                                                                  \n",
       "2017-09-27  38.680000  38.384998  38.450001  38.557499  102016800.0   \n",
       "2017-09-28  38.570000  38.174999  38.472500  38.320000   88022000.0   \n",
       "2017-09-29  38.532501  38.000000  38.302502  38.529999  105199200.0   \n",
       "2017-10-02  38.612499  38.180000  38.564999  38.452499   74795200.0   \n",
       "2017-10-03  38.772499  38.477501  38.502499  38.619999   64921200.0   \n",
       "\n",
       "            Adj Close  Close_lag1  pct_change  Close_diff  \n",
       "Date                                                       \n",
       "2017-09-27  36.593582         NaN         NaN         NaN  \n",
       "2017-09-28  36.368187   38.557499   -0.006160   -0.237499  \n",
       "2017-09-29  36.567497   38.320000    0.005480    0.209999  \n",
       "2017-10-02  36.493938   38.529999   -0.002011   -0.077499  \n",
       "2017-10-03  36.652901   38.452499    0.004356    0.167500  "
      ]
     },
     "execution_count": 25,
     "metadata": {},
     "output_type": "execute_result"
    }
   ],
   "source": [
    "df['Close_diff'] = df['Close'].diff() # option : period (default :1)\n",
    "df.head()"
   ]
  },
  {
   "cell_type": "markdown",
   "metadata": {},
   "source": [
    "### rolling() 함수\n",
    "이동평균 계산을 위해 사용하는 함수 (smoothing 기법)  "
   ]
  },
  {
   "cell_type": "markdown",
   "metadata": {},
   "source": [
    "window 옵션을 통해 데이터의 평균값, 최소값, 최대값을 계산  \n",
    "주식차트의 이동평균선, 지수 이동평균, 볼린저 밴드를 계산할때 유용"
   ]
  },
  {
   "cell_type": "code",
   "execution_count": 26,
   "metadata": {},
   "outputs": [
    {
     "data": {
      "text/html": [
       "<div>\n",
       "<style scoped>\n",
       "    .dataframe tbody tr th:only-of-type {\n",
       "        vertical-align: middle;\n",
       "    }\n",
       "\n",
       "    .dataframe tbody tr th {\n",
       "        vertical-align: top;\n",
       "    }\n",
       "\n",
       "    .dataframe thead th {\n",
       "        text-align: right;\n",
       "    }\n",
       "</style>\n",
       "<table border=\"1\" class=\"dataframe\">\n",
       "  <thead>\n",
       "    <tr style=\"text-align: right;\">\n",
       "      <th></th>\n",
       "      <th>High</th>\n",
       "      <th>Low</th>\n",
       "      <th>Open</th>\n",
       "      <th>Close</th>\n",
       "      <th>Volume</th>\n",
       "      <th>Adj Close</th>\n",
       "      <th>Close_lag1</th>\n",
       "      <th>pct_change</th>\n",
       "      <th>Close_diff</th>\n",
       "      <th>MA5</th>\n",
       "    </tr>\n",
       "    <tr>\n",
       "      <th>Date</th>\n",
       "      <th></th>\n",
       "      <th></th>\n",
       "      <th></th>\n",
       "      <th></th>\n",
       "      <th></th>\n",
       "      <th></th>\n",
       "      <th></th>\n",
       "      <th></th>\n",
       "      <th></th>\n",
       "      <th></th>\n",
       "    </tr>\n",
       "  </thead>\n",
       "  <tbody>\n",
       "    <tr>\n",
       "      <th>2017-09-27</th>\n",
       "      <td>38.680000</td>\n",
       "      <td>38.384998</td>\n",
       "      <td>38.450001</td>\n",
       "      <td>38.557499</td>\n",
       "      <td>102016800.0</td>\n",
       "      <td>36.593582</td>\n",
       "      <td>NaN</td>\n",
       "      <td>NaN</td>\n",
       "      <td>NaN</td>\n",
       "      <td>NaN</td>\n",
       "    </tr>\n",
       "    <tr>\n",
       "      <th>2017-09-28</th>\n",
       "      <td>38.570000</td>\n",
       "      <td>38.174999</td>\n",
       "      <td>38.472500</td>\n",
       "      <td>38.320000</td>\n",
       "      <td>88022000.0</td>\n",
       "      <td>36.368187</td>\n",
       "      <td>38.557499</td>\n",
       "      <td>-0.006160</td>\n",
       "      <td>-0.237499</td>\n",
       "      <td>NaN</td>\n",
       "    </tr>\n",
       "    <tr>\n",
       "      <th>2017-09-29</th>\n",
       "      <td>38.532501</td>\n",
       "      <td>38.000000</td>\n",
       "      <td>38.302502</td>\n",
       "      <td>38.529999</td>\n",
       "      <td>105199200.0</td>\n",
       "      <td>36.567497</td>\n",
       "      <td>38.320000</td>\n",
       "      <td>0.005480</td>\n",
       "      <td>0.209999</td>\n",
       "      <td>NaN</td>\n",
       "    </tr>\n",
       "    <tr>\n",
       "      <th>2017-10-02</th>\n",
       "      <td>38.612499</td>\n",
       "      <td>38.180000</td>\n",
       "      <td>38.564999</td>\n",
       "      <td>38.452499</td>\n",
       "      <td>74795200.0</td>\n",
       "      <td>36.493938</td>\n",
       "      <td>38.529999</td>\n",
       "      <td>-0.002011</td>\n",
       "      <td>-0.077499</td>\n",
       "      <td>NaN</td>\n",
       "    </tr>\n",
       "    <tr>\n",
       "      <th>2017-10-03</th>\n",
       "      <td>38.772499</td>\n",
       "      <td>38.477501</td>\n",
       "      <td>38.502499</td>\n",
       "      <td>38.619999</td>\n",
       "      <td>64921200.0</td>\n",
       "      <td>36.652901</td>\n",
       "      <td>38.452499</td>\n",
       "      <td>0.004356</td>\n",
       "      <td>0.167500</td>\n",
       "      <td>38.495999</td>\n",
       "    </tr>\n",
       "    <tr>\n",
       "      <th>2017-10-04</th>\n",
       "      <td>38.465000</td>\n",
       "      <td>38.115002</td>\n",
       "      <td>38.407501</td>\n",
       "      <td>38.369999</td>\n",
       "      <td>80655200.0</td>\n",
       "      <td>36.415638</td>\n",
       "      <td>38.619999</td>\n",
       "      <td>-0.006473</td>\n",
       "      <td>-0.250000</td>\n",
       "      <td>38.458499</td>\n",
       "    </tr>\n",
       "    <tr>\n",
       "      <th>2017-10-05</th>\n",
       "      <td>38.860001</td>\n",
       "      <td>38.512501</td>\n",
       "      <td>38.544998</td>\n",
       "      <td>38.847500</td>\n",
       "      <td>85135200.0</td>\n",
       "      <td>36.868813</td>\n",
       "      <td>38.369999</td>\n",
       "      <td>0.012445</td>\n",
       "      <td>0.477501</td>\n",
       "      <td>38.563999</td>\n",
       "    </tr>\n",
       "    <tr>\n",
       "      <th>2017-10-06</th>\n",
       "      <td>38.872501</td>\n",
       "      <td>38.639999</td>\n",
       "      <td>38.742500</td>\n",
       "      <td>38.825001</td>\n",
       "      <td>69630400.0</td>\n",
       "      <td>36.847469</td>\n",
       "      <td>38.847500</td>\n",
       "      <td>-0.000579</td>\n",
       "      <td>-0.022499</td>\n",
       "      <td>38.623000</td>\n",
       "    </tr>\n",
       "    <tr>\n",
       "      <th>2017-10-09</th>\n",
       "      <td>39.182499</td>\n",
       "      <td>38.872501</td>\n",
       "      <td>38.952499</td>\n",
       "      <td>38.959999</td>\n",
       "      <td>65051600.0</td>\n",
       "      <td>36.975582</td>\n",
       "      <td>38.825001</td>\n",
       "      <td>0.003477</td>\n",
       "      <td>0.134998</td>\n",
       "      <td>38.724500</td>\n",
       "    </tr>\n",
       "    <tr>\n",
       "      <th>2017-10-10</th>\n",
       "      <td>39.500000</td>\n",
       "      <td>38.775002</td>\n",
       "      <td>39.014999</td>\n",
       "      <td>38.974998</td>\n",
       "      <td>62468000.0</td>\n",
       "      <td>36.989826</td>\n",
       "      <td>38.959999</td>\n",
       "      <td>0.000385</td>\n",
       "      <td>0.014999</td>\n",
       "      <td>38.795499</td>\n",
       "    </tr>\n",
       "  </tbody>\n",
       "</table>\n",
       "</div>"
      ],
      "text/plain": [
       "                 High        Low       Open      Close       Volume  \\\n",
       "Date                                                                  \n",
       "2017-09-27  38.680000  38.384998  38.450001  38.557499  102016800.0   \n",
       "2017-09-28  38.570000  38.174999  38.472500  38.320000   88022000.0   \n",
       "2017-09-29  38.532501  38.000000  38.302502  38.529999  105199200.0   \n",
       "2017-10-02  38.612499  38.180000  38.564999  38.452499   74795200.0   \n",
       "2017-10-03  38.772499  38.477501  38.502499  38.619999   64921200.0   \n",
       "2017-10-04  38.465000  38.115002  38.407501  38.369999   80655200.0   \n",
       "2017-10-05  38.860001  38.512501  38.544998  38.847500   85135200.0   \n",
       "2017-10-06  38.872501  38.639999  38.742500  38.825001   69630400.0   \n",
       "2017-10-09  39.182499  38.872501  38.952499  38.959999   65051600.0   \n",
       "2017-10-10  39.500000  38.775002  39.014999  38.974998   62468000.0   \n",
       "\n",
       "            Adj Close  Close_lag1  pct_change  Close_diff        MA5  \n",
       "Date                                                                  \n",
       "2017-09-27  36.593582         NaN         NaN         NaN        NaN  \n",
       "2017-09-28  36.368187   38.557499   -0.006160   -0.237499        NaN  \n",
       "2017-09-29  36.567497   38.320000    0.005480    0.209999        NaN  \n",
       "2017-10-02  36.493938   38.529999   -0.002011   -0.077499        NaN  \n",
       "2017-10-03  36.652901   38.452499    0.004356    0.167500  38.495999  \n",
       "2017-10-04  36.415638   38.619999   -0.006473   -0.250000  38.458499  \n",
       "2017-10-05  36.868813   38.369999    0.012445    0.477501  38.563999  \n",
       "2017-10-06  36.847469   38.847500   -0.000579   -0.022499  38.623000  \n",
       "2017-10-09  36.975582   38.825001    0.003477    0.134998  38.724500  \n",
       "2017-10-10  36.989826   38.959999    0.000385    0.014999  38.795499  "
      ]
     },
     "execution_count": 26,
     "metadata": {},
     "output_type": "execute_result"
    }
   ],
   "source": [
    "df['MA5'] = df['Close'].rolling(window = 5).mean()\n",
    "df.head(10)"
   ]
  },
  {
   "cell_type": "code",
   "execution_count": 27,
   "metadata": {},
   "outputs": [
    {
     "data": {
      "text/plain": [
       "pandas.core.window.rolling.Rolling"
      ]
     },
     "execution_count": 27,
     "metadata": {},
     "output_type": "execute_result"
    }
   ],
   "source": [
    "type(df['Close'].rolling(window=5))\n",
    "# 타입이 rolling 클래스이기 때문에 rolling 클래스의 내장함수를 연속으로 사용할 수 있음 -> mean 같은 함수"
   ]
  },
  {
   "cell_type": "markdown",
   "metadata": {},
   "source": [
    "### resample() 함수\n",
    "단위(시간) 를 바꿀 때 사용하는 함수  \n",
    "month -> week, day -> month"
   ]
  },
  {
   "cell_type": "code",
   "execution_count": 29,
   "metadata": {},
   "outputs": [
    {
     "data": {
      "text/plain": [
       "2021-01-01      0\n",
       "2021-01-04      1\n",
       "2021-01-05      2\n",
       "2021-01-06      3\n",
       "2021-01-07      4\n",
       "             ... \n",
       "2021-09-27    191\n",
       "2021-09-28    192\n",
       "2021-09-29    193\n",
       "2021-09-30    194\n",
       "2021-10-01    195\n",
       "Freq: B, Length: 196, dtype: int64"
      ]
     },
     "execution_count": 29,
     "metadata": {},
     "output_type": "execute_result"
    }
   ],
   "source": [
    "index = pd.date_range(start = '2021-01-01', end = '2021-10-01', freq='B')    # freq = B 옵션은 영업일 기준(주말, 공휴일제외)\n",
    "series = pd.Series(range(len(index)), index = index)\n",
    "series"
   ]
  },
  {
   "cell_type": "code",
   "execution_count": 30,
   "metadata": {},
   "outputs": [
    {
     "data": {
      "text/plain": [
       "2021-01-31     210\n",
       "2021-02-28     610\n",
       "2021-03-31    1196\n",
       "2021-04-30    1639\n",
       "2021-05-31    2016\n",
       "2021-06-30    2585\n",
       "2021-07-31    3069\n",
       "2021-08-31    3553\n",
       "2021-09-30    4037\n",
       "2021-10-31     195\n",
       "Freq: M, dtype: int64"
      ]
     },
     "execution_count": 30,
     "metadata": {},
     "output_type": "execute_result"
    }
   ],
   "source": [
    "series.resample(rule='M').sum()"
   ]
  },
  {
   "cell_type": "markdown",
   "metadata": {},
   "source": [
    "- 매개변수 : rule -> 시간의 주기를 나타냄  \n",
    "M : 월말 일자 기준으로 데이터 정리  \n",
    "MS : 월초 일자 기준으로 데이터 정리  \n",
    "- 추가 함수 : sum, first, last    \n",
    "sum : 월별 합계  \n",
    "first : 월초 일자 확인  \n",
    "last : 월말 일자 확인"
   ]
  },
  {
   "cell_type": "code",
   "execution_count": 31,
   "metadata": {},
   "outputs": [
    {
     "data": {
      "text/plain": [
       "2021-01-31     20\n",
       "2021-02-28     40\n",
       "2021-03-31     63\n",
       "2021-04-30     85\n",
       "2021-05-31    106\n",
       "2021-06-30    128\n",
       "2021-07-31    150\n",
       "2021-08-31    172\n",
       "2021-09-30    194\n",
       "2021-10-31    195\n",
       "Freq: M, dtype: int64"
      ]
     },
     "execution_count": 31,
     "metadata": {},
     "output_type": "execute_result"
    }
   ],
   "source": [
    "series.resample(rule='M').last()"
   ]
  },
  {
   "cell_type": "code",
   "execution_count": 33,
   "metadata": {},
   "outputs": [
    {
     "data": {
      "text/plain": [
       "2021-01-01      0\n",
       "2021-02-01     21\n",
       "2021-03-01     41\n",
       "2021-04-01     64\n",
       "2021-05-01     86\n",
       "2021-06-01    107\n",
       "2021-07-01    129\n",
       "2021-08-01    151\n",
       "2021-09-01    173\n",
       "2021-10-01    195\n",
       "Freq: MS, dtype: int64"
      ]
     },
     "execution_count": 33,
     "metadata": {},
     "output_type": "execute_result"
    }
   ],
   "source": [
    "series.resample(rule='MS').first()"
   ]
  },
  {
   "cell_type": "markdown",
   "metadata": {},
   "source": [
    "### rolling()과 resample()의 차이\n",
    "- rolling : 시간 기반 윈도우 작업 수행 (제한된 범위 없이 윈도우 크기로 새로운 시점에 새로운 결과값을 계산)\n",
    "- resample : 주기 기반 윈도우 작업 수행 (고정된 크기 내에서 최소값과 최대값 사이의 일정값을 보여줌)"
   ]
  }
 ],
 "metadata": {
  "kernelspec": {
   "display_name": "Python 3 (ipykernel)",
   "language": "python",
   "name": "python3"
  },
  "language_info": {
   "codemirror_mode": {
    "name": "ipython",
    "version": 3
   },
   "file_extension": ".py",
   "mimetype": "text/x-python",
   "name": "python",
   "nbconvert_exporter": "python",
   "pygments_lexer": "ipython3",
   "version": "3.9.7"
  }
 },
 "nbformat": 4,
 "nbformat_minor": 4
}
